{
 "cells": [
  {
   "cell_type": "markdown",
   "id": "6d99629d-4731-41ed-b20c-fd2fd22bacbf",
   "metadata": {},
   "source": [
    "# Prediksi Pendapatan Gaji"
   ]
  },
  {
   "cell_type": "markdown",
   "id": "5581cd76-12f6-4c0a-9096-823444eed3a0",
   "metadata": {},
   "source": [
    "Prediksi pendapatan gaji ini adalah berdasarkan pengalaman dalam bulan dan gaji bekerja dalam ribuan\n",
    "\n"
   ]
  },
  {
   "cell_type": "markdown",
   "id": "d44070e3-e79b-4e40-acde-e379e726f7d3",
   "metadata": {},
   "source": [
    "## Install Library\n",
    "\n",
    "Langkah pertama adalah install library seperti pandas untuk manipulasi data, matplotlib untuk membuat grafik data, scikit-learn untuk melakukan pembuatan model linear regression"
   ]
  },
  {
   "cell_type": "code",
   "execution_count": 1,
   "id": "5c548efa-1664-42f1-91a6-fceea753172c",
   "metadata": {},
   "outputs": [
    {
     "name": "stdout",
     "output_type": "stream",
     "text": [
      "Requirement already satisfied: pandas in ./venv/lib/python3.11/site-packages (2.1.4)\n",
      "Requirement already satisfied: matplotlib in ./venv/lib/python3.11/site-packages (3.8.2)\n",
      "Requirement already satisfied: scikit-learn in ./venv/lib/python3.11/site-packages (1.3.2)\n",
      "Requirement already satisfied: numpy<2,>=1.23.2 in ./venv/lib/python3.11/site-packages (from pandas) (1.26.2)\n",
      "Requirement already satisfied: python-dateutil>=2.8.2 in ./venv/lib/python3.11/site-packages (from pandas) (2.8.2)\n",
      "Requirement already satisfied: pytz>=2020.1 in ./venv/lib/python3.11/site-packages (from pandas) (2023.3.post1)\n",
      "Requirement already satisfied: tzdata>=2022.1 in ./venv/lib/python3.11/site-packages (from pandas) (2023.4)\n",
      "Requirement already satisfied: contourpy>=1.0.1 in ./venv/lib/python3.11/site-packages (from matplotlib) (1.2.0)\n",
      "Requirement already satisfied: cycler>=0.10 in ./venv/lib/python3.11/site-packages (from matplotlib) (0.12.1)\n",
      "Requirement already satisfied: fonttools>=4.22.0 in ./venv/lib/python3.11/site-packages (from matplotlib) (4.47.0)\n",
      "Requirement already satisfied: kiwisolver>=1.3.1 in ./venv/lib/python3.11/site-packages (from matplotlib) (1.4.5)\n",
      "Requirement already satisfied: packaging>=20.0 in ./venv/lib/python3.11/site-packages (from matplotlib) (23.2)\n",
      "Requirement already satisfied: pillow>=8 in ./venv/lib/python3.11/site-packages (from matplotlib) (10.1.0)\n",
      "Requirement already satisfied: pyparsing>=2.3.1 in ./venv/lib/python3.11/site-packages (from matplotlib) (3.1.1)\n",
      "Requirement already satisfied: scipy>=1.5.0 in ./venv/lib/python3.11/site-packages (from scikit-learn) (1.11.4)\n",
      "Requirement already satisfied: joblib>=1.1.1 in ./venv/lib/python3.11/site-packages (from scikit-learn) (1.3.2)\n",
      "Requirement already satisfied: threadpoolctl>=2.0.0 in ./venv/lib/python3.11/site-packages (from scikit-learn) (3.2.0)\n",
      "Requirement already satisfied: six>=1.5 in ./venv/lib/python3.11/site-packages (from python-dateutil>=2.8.2->pandas) (1.16.0)\n",
      "\n",
      "\u001b[1m[\u001b[0m\u001b[34;49mnotice\u001b[0m\u001b[1;39;49m]\u001b[0m\u001b[39;49m A new release of pip is available: \u001b[0m\u001b[31;49m23.2.1\u001b[0m\u001b[39;49m -> \u001b[0m\u001b[32;49m23.3.2\u001b[0m\n",
      "\u001b[1m[\u001b[0m\u001b[34;49mnotice\u001b[0m\u001b[1;39;49m]\u001b[0m\u001b[39;49m To update, run: \u001b[0m\u001b[32;49mpip install --upgrade pip\u001b[0m\n"
     ]
    }
   ],
   "source": [
    "!pip install pandas matplotlib scikit-learn"
   ]
  },
  {
   "cell_type": "markdown",
   "id": "675228fe-aac8-4ba9-8f23-abcb68cdc84f",
   "metadata": {},
   "source": [
    "## Membaca Dataset\n",
    "Selanjutnya adalah membaca dataset dengan library pandas"
   ]
  },
  {
   "cell_type": "code",
   "execution_count": 2,
   "id": "4e5880c0-6966-43ee-b550-0098fbe97d49",
   "metadata": {},
   "outputs": [
    {
     "data": {
      "text/html": [
       "<div>\n",
       "<style scoped>\n",
       "    .dataframe tbody tr th:only-of-type {\n",
       "        vertical-align: middle;\n",
       "    }\n",
       "\n",
       "    .dataframe tbody tr th {\n",
       "        vertical-align: top;\n",
       "    }\n",
       "\n",
       "    .dataframe thead th {\n",
       "        text-align: right;\n",
       "    }\n",
       "</style>\n",
       "<table border=\"1\" class=\"dataframe\">\n",
       "  <thead>\n",
       "    <tr style=\"text-align: right;\">\n",
       "      <th></th>\n",
       "      <th>exp(in months)</th>\n",
       "      <th>salary(in thousands)</th>\n",
       "    </tr>\n",
       "  </thead>\n",
       "  <tbody>\n",
       "    <tr>\n",
       "      <th>0</th>\n",
       "      <td>18.290293</td>\n",
       "      <td>16.521825</td>\n",
       "    </tr>\n",
       "    <tr>\n",
       "      <th>1</th>\n",
       "      <td>17.023407</td>\n",
       "      <td>11.666234</td>\n",
       "    </tr>\n",
       "    <tr>\n",
       "      <th>2</th>\n",
       "      <td>26.343613</td>\n",
       "      <td>23.167255</td>\n",
       "    </tr>\n",
       "    <tr>\n",
       "      <th>3</th>\n",
       "      <td>19.105834</td>\n",
       "      <td>20.877145</td>\n",
       "    </tr>\n",
       "    <tr>\n",
       "      <th>4</th>\n",
       "      <td>27.742516</td>\n",
       "      <td>23.166236</td>\n",
       "    </tr>\n",
       "  </tbody>\n",
       "</table>\n",
       "</div>"
      ],
      "text/plain": [
       "   exp(in months)  salary(in thousands)\n",
       "0       18.290293             16.521825\n",
       "1       17.023407             11.666234\n",
       "2       26.343613             23.167255\n",
       "3       19.105834             20.877145\n",
       "4       27.742516             23.166236"
      ]
     },
     "execution_count": 2,
     "metadata": {},
     "output_type": "execute_result"
    }
   ],
   "source": [
    "import pandas as pd\n",
    "\n",
    "file_path = 'dataset/exp_salary.csv'\n",
    "data = pd.read_csv(file_path)\n",
    "data.head()"
   ]
  },
  {
   "cell_type": "markdown",
   "id": "04bd2d44-f799-4694-bcba-14b4330ccd72",
   "metadata": {},
   "source": [
    "Dilihat dari gambar diatas terdapat data mengenai gaji serta atribut lainnya"
   ]
  },
  {
   "cell_type": "markdown",
   "id": "131c26b1-1595-4fa6-80d8-4c23755e687d",
   "metadata": {},
   "source": [
    "## Cleaning Data\n",
    "\n",
    "Pada tahap ini dilakukan Cleaning Data dengan dapat melakukan pengecekan data yang kosong"
   ]
  },
  {
   "cell_type": "code",
   "execution_count": 3,
   "id": "a77cf417-caee-4be0-8fbc-8b1868023d2a",
   "metadata": {},
   "outputs": [
    {
     "data": {
      "text/plain": [
       "exp(in months)          0\n",
       "salary(in thousands)    0\n",
       "dtype: int64"
      ]
     },
     "execution_count": 3,
     "metadata": {},
     "output_type": "execute_result"
    }
   ],
   "source": [
    "data.isnull().sum()"
   ]
  },
  {
   "cell_type": "markdown",
   "id": "461f1522-ebda-4ac0-8615-f87e095d86c2",
   "metadata": {},
   "source": [
    "Setelah melihat hasil pengecekan data null seperti diatas maka dapat dilakukan pengecekan data yang duplikasi "
   ]
  },
  {
   "cell_type": "code",
   "execution_count": 4,
   "id": "4e2cbd16-2ed0-49fa-ab0a-668e322f0158",
   "metadata": {},
   "outputs": [
    {
     "data": {
      "text/html": [
       "<div>\n",
       "<style scoped>\n",
       "    .dataframe tbody tr th:only-of-type {\n",
       "        vertical-align: middle;\n",
       "    }\n",
       "\n",
       "    .dataframe tbody tr th {\n",
       "        vertical-align: top;\n",
       "    }\n",
       "\n",
       "    .dataframe thead th {\n",
       "        text-align: right;\n",
       "    }\n",
       "</style>\n",
       "<table border=\"1\" class=\"dataframe\">\n",
       "  <thead>\n",
       "    <tr style=\"text-align: right;\">\n",
       "      <th></th>\n",
       "      <th>exp(in months)</th>\n",
       "      <th>salary(in thousands)</th>\n",
       "    </tr>\n",
       "  </thead>\n",
       "  <tbody>\n",
       "  </tbody>\n",
       "</table>\n",
       "</div>"
      ],
      "text/plain": [
       "Empty DataFrame\n",
       "Columns: [exp(in months), salary(in thousands)]\n",
       "Index: []"
      ]
     },
     "execution_count": 4,
     "metadata": {},
     "output_type": "execute_result"
    }
   ],
   "source": [
    "data[data.duplicated()]"
   ]
  },
  {
   "cell_type": "markdown",
   "id": "d034ba67-f42b-4206-a63f-6511d9cc002e",
   "metadata": {},
   "source": [
    "Setelah melakukan pengecekan apakah dataset tersebut terdapat duplikasi maka dapat dicek kembali data tersebut"
   ]
  },
  {
   "cell_type": "code",
   "execution_count": 5,
   "id": "09d69421-4197-4bee-8389-e72081e92f9b",
   "metadata": {},
   "outputs": [
    {
     "data": {
      "text/html": [
       "<div>\n",
       "<style scoped>\n",
       "    .dataframe tbody tr th:only-of-type {\n",
       "        vertical-align: middle;\n",
       "    }\n",
       "\n",
       "    .dataframe tbody tr th {\n",
       "        vertical-align: top;\n",
       "    }\n",
       "\n",
       "    .dataframe thead th {\n",
       "        text-align: right;\n",
       "    }\n",
       "</style>\n",
       "<table border=\"1\" class=\"dataframe\">\n",
       "  <thead>\n",
       "    <tr style=\"text-align: right;\">\n",
       "      <th></th>\n",
       "      <th>exp(in months)</th>\n",
       "      <th>salary(in thousands)</th>\n",
       "    </tr>\n",
       "  </thead>\n",
       "  <tbody>\n",
       "    <tr>\n",
       "      <th>0</th>\n",
       "      <td>18.290293</td>\n",
       "      <td>16.521825</td>\n",
       "    </tr>\n",
       "    <tr>\n",
       "      <th>1</th>\n",
       "      <td>17.023407</td>\n",
       "      <td>11.666234</td>\n",
       "    </tr>\n",
       "    <tr>\n",
       "      <th>2</th>\n",
       "      <td>26.343613</td>\n",
       "      <td>23.167255</td>\n",
       "    </tr>\n",
       "    <tr>\n",
       "      <th>3</th>\n",
       "      <td>19.105834</td>\n",
       "      <td>20.877145</td>\n",
       "    </tr>\n",
       "    <tr>\n",
       "      <th>4</th>\n",
       "      <td>27.742516</td>\n",
       "      <td>23.166236</td>\n",
       "    </tr>\n",
       "    <tr>\n",
       "      <th>...</th>\n",
       "      <td>...</td>\n",
       "      <td>...</td>\n",
       "    </tr>\n",
       "    <tr>\n",
       "      <th>995</th>\n",
       "      <td>22.161741</td>\n",
       "      <td>24.666502</td>\n",
       "    </tr>\n",
       "    <tr>\n",
       "      <th>996</th>\n",
       "      <td>32.266497</td>\n",
       "      <td>24.160270</td>\n",
       "    </tr>\n",
       "    <tr>\n",
       "      <th>997</th>\n",
       "      <td>17.039030</td>\n",
       "      <td>19.903797</td>\n",
       "    </tr>\n",
       "    <tr>\n",
       "      <th>998</th>\n",
       "      <td>25.222124</td>\n",
       "      <td>21.974413</td>\n",
       "    </tr>\n",
       "    <tr>\n",
       "      <th>999</th>\n",
       "      <td>16.418028</td>\n",
       "      <td>19.634787</td>\n",
       "    </tr>\n",
       "  </tbody>\n",
       "</table>\n",
       "<p>1000 rows × 2 columns</p>\n",
       "</div>"
      ],
      "text/plain": [
       "     exp(in months)  salary(in thousands)\n",
       "0         18.290293             16.521825\n",
       "1         17.023407             11.666234\n",
       "2         26.343613             23.167255\n",
       "3         19.105834             20.877145\n",
       "4         27.742516             23.166236\n",
       "..              ...                   ...\n",
       "995       22.161741             24.666502\n",
       "996       32.266497             24.160270\n",
       "997       17.039030             19.903797\n",
       "998       25.222124             21.974413\n",
       "999       16.418028             19.634787\n",
       "\n",
       "[1000 rows x 2 columns]"
      ]
     },
     "execution_count": 5,
     "metadata": {},
     "output_type": "execute_result"
    }
   ],
   "source": [
    "data"
   ]
  },
  {
   "cell_type": "markdown",
   "id": "06d59492-5147-47db-a6b5-264ef34f241c",
   "metadata": {},
   "source": [
    "## Melihat Deskripsi Data\n",
    "\n",
    "Dapat dilakukan untuk melihat jumlah untuk dihitung dan rata-rata serta informasi lainnya mengenai data yang akan dianalisa seperti dibawah ini.\\\n",
    "Data ini nantinya akan digunakan sebagai pelatihan model machine learning yang akan dibangun."
   ]
  },
  {
   "cell_type": "code",
   "execution_count": 6,
   "id": "a80d6dec-576e-4da2-a70c-3aeb533eb1cc",
   "metadata": {},
   "outputs": [
    {
     "data": {
      "text/html": [
       "<div>\n",
       "<style scoped>\n",
       "    .dataframe tbody tr th:only-of-type {\n",
       "        vertical-align: middle;\n",
       "    }\n",
       "\n",
       "    .dataframe tbody tr th {\n",
       "        vertical-align: top;\n",
       "    }\n",
       "\n",
       "    .dataframe thead th {\n",
       "        text-align: right;\n",
       "    }\n",
       "</style>\n",
       "<table border=\"1\" class=\"dataframe\">\n",
       "  <thead>\n",
       "    <tr style=\"text-align: right;\">\n",
       "      <th></th>\n",
       "      <th>exp(in months)</th>\n",
       "      <th>salary(in thousands)</th>\n",
       "    </tr>\n",
       "  </thead>\n",
       "  <tbody>\n",
       "    <tr>\n",
       "      <th>count</th>\n",
       "      <td>1000.000000</td>\n",
       "      <td>1000.000000</td>\n",
       "    </tr>\n",
       "    <tr>\n",
       "      <th>mean</th>\n",
       "      <td>26.157825</td>\n",
       "      <td>26.722597</td>\n",
       "    </tr>\n",
       "    <tr>\n",
       "      <th>std</th>\n",
       "      <td>8.717091</td>\n",
       "      <td>8.844761</td>\n",
       "    </tr>\n",
       "    <tr>\n",
       "      <th>min</th>\n",
       "      <td>0.697594</td>\n",
       "      <td>-1.276342</td>\n",
       "    </tr>\n",
       "    <tr>\n",
       "      <th>25%</th>\n",
       "      <td>20.073600</td>\n",
       "      <td>20.531008</td>\n",
       "    </tr>\n",
       "    <tr>\n",
       "      <th>50%</th>\n",
       "      <td>25.875225</td>\n",
       "      <td>26.745576</td>\n",
       "    </tr>\n",
       "    <tr>\n",
       "      <th>75%</th>\n",
       "      <td>32.406986</td>\n",
       "      <td>32.615753</td>\n",
       "    </tr>\n",
       "    <tr>\n",
       "      <th>max</th>\n",
       "      <td>49.463222</td>\n",
       "      <td>55.297016</td>\n",
       "    </tr>\n",
       "  </tbody>\n",
       "</table>\n",
       "</div>"
      ],
      "text/plain": [
       "       exp(in months)  salary(in thousands)\n",
       "count     1000.000000           1000.000000\n",
       "mean        26.157825             26.722597\n",
       "std          8.717091              8.844761\n",
       "min          0.697594             -1.276342\n",
       "25%         20.073600             20.531008\n",
       "50%         25.875225             26.745576\n",
       "75%         32.406986             32.615753\n",
       "max         49.463222             55.297016"
      ]
     },
     "execution_count": 6,
     "metadata": {},
     "output_type": "execute_result"
    }
   ],
   "source": [
    "data.describe()"
   ]
  },
  {
   "cell_type": "markdown",
   "id": "554ac88f-2c5e-451f-89b2-aeebaf256fad",
   "metadata": {},
   "source": [
    "Secara statistika diatas kita dapat memiliki data yang akan digunakan, setelah mengetahui statistika ini dapat dilakukan visualisasi data."
   ]
  },
  {
   "cell_type": "markdown",
   "id": "87aba2a4-576e-4ecc-945f-cf89376e06b2",
   "metadata": {},
   "source": [
    "## Visualisasi Data\n",
    "\n",
    "Dengan library `matplotlib` maka dapat dilakukan visualisasi semua data untuk melakukan apakah data ini dapat dianalisa dengan Linear Regression"
   ]
  },
  {
   "cell_type": "code",
   "execution_count": 7,
   "id": "fe144529-32f0-4615-a14d-873ca126cc6d",
   "metadata": {},
   "outputs": [
    {
     "data": {
      "image/png": "[encoded data removed]",
      "text/plain": [
       "<Figure size 640x480 with 1 Axes>"
      ]
     },
     "metadata": {},
     "output_type": "display_data"
    }
   ],
   "source": [
    "import matplotlib.pyplot as plt\n",
    "\n",
    "plt.scatter(data['exp(in months)'],data['salary(in thousands)'],color=\"g\",marker=\".\")\n",
    "\n",
    "plt.xlabel(\"Pengalaman Kerja (dalam bulan)\")\n",
    "plt.ylabel(\"Gaji\")\n",
    "plt.title(\"Grafik Gaji berdasarkan lama bekerja\")\n",
    "plt.grid(True)\n",
    "plt.show()"
   ]
  },
  {
   "cell_type": "markdown",
   "id": "18c91f40-c41b-431f-9727-01e65b26c093",
   "metadata": {},
   "source": [
    "Dari graphic diatas dapat dilihat distribusi data yang terlihat bahwa pengalaman yang lebih lama relatif memiliki gaji yang lebih tinggi"
   ]
  },
  {
   "cell_type": "markdown",
   "id": "9dd8d40b-63de-4646-a5d3-1ff55e30a343",
   "metadata": {},
   "source": [
    "## Training Model\n",
    "\n",
    "Setelah melihat grafik diatas maka data dapat digunakan untuk percobaan linear regression."
   ]
  },
  {
   "cell_type": "markdown",
   "id": "74e2e975-2ea3-4d6c-9615-755a294d8336",
   "metadata": {},
   "source": [
    "**1. Data tersebut diubah menjadi data training dan data testing**"
   ]
  },
  {
   "cell_type": "code",
   "execution_count": 8,
   "id": "8692f9af-043a-4cf0-a956-d5f0f1734655",
   "metadata": {},
   "outputs": [],
   "source": [
    "x=data.iloc[:,:-1]\n",
    "y=data.iloc[:,1]"
   ]
  },
  {
   "cell_type": "markdown",
   "id": "f5bc5913-7f1c-456f-93fc-3911fc0ba13c",
   "metadata": {},
   "source": [
    "**2. Dengan melakukan import library `sklearn` menggunakan method `train_test_split` seperti dibawah ini dan menghitung shape**"
   ]
  },
  {
   "cell_type": "code",
   "execution_count": 9,
   "id": "b06f193c-ab0f-4f0a-9e82-f5ba0cd0f50f",
   "metadata": {},
   "outputs": [
    {
     "name": "stdout",
     "output_type": "stream",
     "text": [
      "Training set shape - X: (800, 1)  y: (800,)\n",
      "Testing set shape - X: (200, 1)  y: (200,)\n"
     ]
    }
   ],
   "source": [
    "from sklearn.model_selection import train_test_split\n",
    "x_train, x_test, y_train, y_test = train_test_split(x, y, test_size=0.2, random_state=0)\n",
    "    \n",
    "print(\"Training set shape - X:\", x_train.shape, \" y:\", y_train.shape)\n",
    "print(\"Testing set shape - X:\", x_test.shape, \" y:\", y_test.shape)"
   ]
  },
  {
   "cell_type": "markdown",
   "id": "efbef36d-9990-49ac-953e-0e6fa2ead4ed",
   "metadata": {},
   "source": [
    "**3. Setelah membagikan data maka dapat dilakukan training model tersebut dengan Linear Regression seperti dibawah ini.**"
   ]
  },
  {
   "cell_type": "code",
   "execution_count": 10,
   "id": "a3485e3b-e9a9-4122-99ba-ca75c189797b",
   "metadata": {},
   "outputs": [
    {
     "data": {
      "text/html": [
       "<style>#sk-container-id-1 {color: black;}#sk-container-id-1 pre{padding: 0;}#sk-container-id-1 div.sk-toggleable {background-color: white;}#sk-container-id-1 label.sk-toggleable__label {cursor: pointer;display: block;width: 100%;margin-bottom: 0;padding: 0.3em;box-sizing: border-box;text-align: center;}#sk-container-id-1 label.sk-toggleable__label-arrow:before {content: \"▸\";float: left;margin-right: 0.25em;color: #696969;}#sk-container-id-1 label.sk-toggleable__label-arrow:hover:before {color: black;}#sk-container-id-1 div.sk-estimator:hover label.sk-toggleable__label-arrow:before {color: black;}#sk-container-id-1 div.sk-toggleable__content {max-height: 0;max-width: 0;overflow: hidden;text-align: left;background-color: #f0f8ff;}#sk-container-id-1 div.sk-toggleable__content pre {margin: 0.2em;color: black;border-radius: 0.25em;background-color: #f0f8ff;}#sk-container-id-1 input.sk-toggleable__control:checked~div.sk-toggleable__content {max-height: 200px;max-width: 100%;overflow: auto;}#sk-container-id-1 input.sk-toggleable__control:checked~label.sk-toggleable__label-arrow:before {content: \"▾\";}#sk-container-id-1 div.sk-estimator input.sk-toggleable__control:checked~label.sk-toggleable__label {background-color: #d4ebff;}#sk-container-id-1 div.sk-label input.sk-toggleable__control:checked~label.sk-toggleable__label {background-color: #d4ebff;}#sk-container-id-1 input.sk-hidden--visually {border: 0;clip: rect(1px 1px 1px 1px);clip: rect(1px, 1px, 1px, 1px);height: 1px;margin: -1px;overflow: hidden;padding: 0;position: absolute;width: 1px;}#sk-container-id-1 div.sk-estimator {font-family: monospace;background-color: #f0f8ff;border: 1px dotted black;border-radius: 0.25em;box-sizing: border-box;margin-bottom: 0.5em;}#sk-container-id-1 div.sk-estimator:hover {background-color: #d4ebff;}#sk-container-id-1 div.sk-parallel-item::after {content: \"\";width: 100%;border-bottom: 1px solid gray;flex-grow: 1;}#sk-container-id-1 div.sk-label:hover label.sk-toggleable__label {background-color: #d4ebff;}#sk-container-id-1 div.sk-serial::before {content: \"\";position: absolute;border-left: 1px solid gray;box-sizing: border-box;top: 0;bottom: 0;left: 50%;z-index: 0;}#sk-container-id-1 div.sk-serial {display: flex;flex-direction: column;align-items: center;background-color: white;padding-right: 0.2em;padding-left: 0.2em;position: relative;}#sk-container-id-1 div.sk-item {position: relative;z-index: 1;}#sk-container-id-1 div.sk-parallel {display: flex;align-items: stretch;justify-content: center;background-color: white;position: relative;}#sk-container-id-1 div.sk-item::before, #sk-container-id-1 div.sk-parallel-item::before {content: \"\";position: absolute;border-left: 1px solid gray;box-sizing: border-box;top: 0;bottom: 0;left: 50%;z-index: -1;}#sk-container-id-1 div.sk-parallel-item {display: flex;flex-direction: column;z-index: 1;position: relative;background-color: white;}#sk-container-id-1 div.sk-parallel-item:first-child::after {align-self: flex-end;width: 50%;}#sk-container-id-1 div.sk-parallel-item:last-child::after {align-self: flex-start;width: 50%;}#sk-container-id-1 div.sk-parallel-item:only-child::after {width: 0;}#sk-container-id-1 div.sk-dashed-wrapped {border: 1px dashed gray;margin: 0 0.4em 0.5em 0.4em;box-sizing: border-box;padding-bottom: 0.4em;background-color: white;}#sk-container-id-1 div.sk-label label {font-family: monospace;font-weight: bold;display: inline-block;line-height: 1.2em;}#sk-container-id-1 div.sk-label-container {text-align: center;}#sk-container-id-1 div.sk-container {/* jupyter's `normalize.less` sets `[hidden] { display: none; }` but bootstrap.min.css set `[hidden] { display: none !important; }` so we also need the `!important` here to be able to override the default hidden behavior on the sphinx rendered scikit-learn.org. See: https://github.com/scikit-learn/scikit-learn/issues/21755 */display: inline-block !important;position: relative;}#sk-container-id-1 div.sk-text-repr-fallback {display: none;}</style><div id=\"sk-container-id-1\" class=\"sk-top-container\"><div class=\"sk-text-repr-fallback\"><pre>LinearRegression()</pre><b>In a Jupyter environment, please rerun this cell to show the HTML representation or trust the notebook. <br />On GitHub, the HTML representation is unable to render, please try loading this page with nbviewer.org.</b></div><div class=\"sk-container\" hidden><div class=\"sk-item\"><div class=\"sk-estimator sk-toggleable\"><input class=\"sk-toggleable__control sk-hidden--visually\" id=\"sk-estimator-id-1\" type=\"checkbox\" checked><label for=\"sk-estimator-id-1\" class=\"sk-toggleable__label sk-toggleable__label-arrow\">LinearRegression</label><div class=\"sk-toggleable__content\"><pre>LinearRegression()</pre></div></div></div></div></div>"
      ],
      "text/plain": [
       "LinearRegression()"
      ]
     },
     "execution_count": 10,
     "metadata": {},
     "output_type": "execute_result"
    }
   ],
   "source": [
    "from sklearn.linear_model import LinearRegression\n",
    "\n",
    "model = LinearRegression()\n",
    "model.fit(x_train, y_train)"
   ]
  },
  {
   "cell_type": "markdown",
   "id": "1ce56c11-41a9-4256-94e6-cc8ebe80f16e",
   "metadata": {},
   "source": [
    "**4. Melihat Hasil Prediksi**"
   ]
  },
  {
   "cell_type": "code",
   "execution_count": 11,
   "id": "eff34090-f6c9-47d0-b66d-a71a42f59c8e",
   "metadata": {},
   "outputs": [
    {
     "data": {
      "text/plain": [
       "array([19.66863399, 45.08678533, 35.09556678, 41.44573867, 33.15289438,\n",
       "       24.12144349, 21.29591289, 10.46870976, 40.50939007, 42.35826405,\n",
       "       19.16657657, 26.00329849, 22.58129684, 19.2972577 , 21.57399671,\n",
       "       25.95065996, 17.07487093, 31.3434879 , 26.31564914, 22.11001181,\n",
       "       20.27144837, 15.18674028, 36.65106869, 21.65136797, 18.85699941,\n",
       "       23.5741666 , 21.25128573, 19.81686519, 18.49274792, 19.21245492,\n",
       "       24.49091836, 19.23170352, 30.79789779, 15.41236172, 23.24819625,\n",
       "       18.65734084, 18.31147241, 25.31848616, 24.6406015 , 26.47563134,\n",
       "       31.11773559, 31.60390297, 28.99809305, 10.50578596, 25.78821205,\n",
       "       23.68142045, 22.02798674, 30.91711705, 33.08595434, 26.17864447,\n",
       "       22.87081236, 36.30538907, 20.84080714, 29.35040008, 32.11744359,\n",
       "       17.50080895, 21.46432741, 20.81449961, 25.59644448, 12.72367189,\n",
       "       18.92609074, 29.68785329, 26.57001426, 24.42351469, 33.88428266,\n",
       "       45.24359517, 19.37369379, 16.61669506, 19.58502282, 18.1929857 ,\n",
       "       21.58530664, 16.80148622, 41.96495828, 28.65634364, 40.9523128 ,\n",
       "       25.96880309, 37.01722964, 27.70317398, 26.21247642, 32.50807779,\n",
       "       34.86597939, 36.53271293, 21.70238456, 36.52525846, 25.08737827,\n",
       "       32.1174549 , 32.1301342 , 34.2934659 , 22.15345616, 41.96196914,\n",
       "       45.58350352, 24.30926918, 26.59902299, 19.01579985, 31.73331102,\n",
       "       28.65303916, 21.57887207,  7.93733605, 35.9991865 , 20.25704874,\n",
       "       24.37741212, 27.54025679, 15.46069668, 27.7376878 , 25.7550368 ,\n",
       "       28.93659245, 35.79068104, 31.70333875, 17.06327691, 20.67902948,\n",
       "       27.19845735, 31.24659234, 35.9751123 , 22.82837014, 15.50225272,\n",
       "       25.01133238, 28.13939076, 20.26429254, 25.34055002, 24.91353942,\n",
       "       32.79311079, 16.52842232, 26.42195371, 21.94304275, 19.24227314,\n",
       "       34.50301248, 34.6570122 , 31.27896315, 38.71996813, 39.88888323,\n",
       "       37.90119644, 24.09851423, 38.36403531, 15.55860041, 23.18098126,\n",
       "       23.65779239, 30.84775179, 32.0711952 , 33.4878751 , 28.45498893,\n",
       "       14.5791421 , 17.89340573, 24.89641644, 17.26319975, 34.11483487,\n",
       "       21.82707335, 25.53275819, 35.66450595, 28.64831565, 33.77704151,\n",
       "       23.95261758, 31.15837086, 25.76546196, 20.40650879, 15.17869748,\n",
       "       22.18050643, 37.21338249, 28.86485253, 39.60070827, 36.71281354,\n",
       "       26.0720753 , 25.65871045, 30.61610393, 19.30122029, 21.94948922,\n",
       "       22.99371656, 30.20057659, 23.23283324, 23.48056003, 30.53913865,\n",
       "       31.92849287, 24.74854405, 24.46120799, 26.58122107,  9.36379645,\n",
       "       31.32010885, 15.21653392, 20.78539369, 25.70169952, 27.50112932,\n",
       "       25.07245023, 18.72032878, 26.93684313, 27.43835015, 42.54429092,\n",
       "       19.58047372, 17.25393072, 21.7167896 , 10.02703935, 39.97797286,\n",
       "       17.84441187, 44.75737463, 28.03242315, 31.11994927, 22.78290855,\n",
       "       34.99500787, 34.12995808, 35.52357821, 31.8010343 , 30.74903608])"
      ]
     },
     "execution_count": 11,
     "metadata": {},
     "output_type": "execute_result"
    }
   ],
   "source": [
    "y_predict=model.predict(x_test)\n",
    "y_predict"
   ]
  },
  {
   "cell_type": "code",
   "execution_count": 12,
   "id": "d93db8a0-2225-4069-a2db-8888d9e867d2",
   "metadata": {},
   "outputs": [
    {
     "data": {
      "text/plain": [
       "array([20.93936788, 21.69796408, 14.13834236, 27.49931213, 30.81384577,\n",
       "       30.59215808, 33.95622669, 30.71317223, 33.64920459, 32.49477918,\n",
       "       17.12510951, 24.94104596, 29.58422001, 23.95260138, 29.13302023,\n",
       "       35.32456543, 13.99461117, 20.7175705 , 28.54280551, 29.80856685,\n",
       "       23.91356807, 12.81575374, 27.42343021, 30.19908015, 21.07440356,\n",
       "       34.15094257, 21.30636011, 28.35553165, 18.48927556, 30.88589456,\n",
       "       24.79765097, 35.11533253, 35.88959873, 18.87084477, 33.13693243,\n",
       "       33.85660469, 38.30643081, 21.84363911, 21.99770519, 18.31135425,\n",
       "       27.76744418, 27.78613449, 26.16325341, 29.03034575, 26.84391904,\n",
       "       23.95015699, 28.4772189 , 26.78905876, 33.68493791,  9.88954911,\n",
       "       23.02168855, 24.48078221, 20.88559601, 30.71446478, 18.94465484,\n",
       "       15.95945364, 28.10019209, 26.51149834, 18.57357642, 18.17560336,\n",
       "       33.34114989, 27.21519943, 22.02873068, 19.68059914, 41.91746486,\n",
       "       34.62808115, 25.63132636, 19.24295243, 24.62188842, 20.26869153,\n",
       "       24.10703427, 34.21900043, 22.58654415, 19.26859055, 23.11341475,\n",
       "       26.51112839, 31.66892267, 26.75366879, 25.6298202 , 26.17654579,\n",
       "       26.84482781, 32.65044775, 22.51503981, 37.8982914 , 24.91251537,\n",
       "       17.07724941, 24.2154982 , 18.76864562, 37.61581693, 24.20512137,\n",
       "       19.64127999, 35.7527301 , 24.16440369, 24.29979386, 33.83386085,\n",
       "       28.11923276, 25.87737511, 40.9640095 , 21.82451507, 39.12124795,\n",
       "       33.0212523 , 24.85520763, 23.03658543, 24.12943013, 28.14047139,\n",
       "       27.2408837 , 28.06568512, 38.41728754, 25.81546036, 13.59489566,\n",
       "       30.01063424, 24.27796634, 38.37577651, 26.20941961, 37.91370916,\n",
       "       30.52917861, 39.15384885, 11.24218922, 21.60138023,  9.38640071,\n",
       "       25.30670261, 24.70577754, 34.87927175, 30.20709041, 35.23963222,\n",
       "       25.74111026, 22.01953512, 19.57591209, 27.76289793, 25.00437063,\n",
       "       25.70319687, 32.30379263, 15.1408878 , 28.90855219, 27.37321705,\n",
       "       39.5452784 , 23.89695109, 33.15915222, 27.13313431, 24.65650242,\n",
       "       30.5199627 , 31.98280598, 30.39761566, 33.61322626, 32.38606045,\n",
       "       22.91165368, 44.22138866, 33.01544885, 29.91162645, 28.00509845,\n",
       "       32.05089338, 17.96401053, 29.9135909 , 30.65959405, 13.583747  ,\n",
       "       25.78595397, 35.16622011, 31.65188329, 40.42919114, 22.94650206,\n",
       "       37.24400626, 24.95988146, 41.38582362, 17.45290686, 30.70542767,\n",
       "       30.13736004, 22.41486371, 26.01343033, 13.09860425, 15.98198417,\n",
       "       30.8372773 , 20.82263443, 13.86523211, 15.83884424, 12.30037523,\n",
       "       17.69464901, 25.20208895, 22.96138219, 31.09906022, 25.18682979,\n",
       "       35.35294408, 16.96600306, 32.61857352, 18.83245231, 33.18905358,\n",
       "       33.48794155, 31.80867597, 21.02292241, 27.8097415 , 32.83268249,\n",
       "       25.63012192, 23.97226049, 17.52087897, 27.36544038, 27.59136792,\n",
       "       30.82378518, 32.69942109, 16.63610398, 35.68031632, 30.88698968,\n",
       "       19.24801446, 27.07701819, 29.58543316, 26.36543831, 34.70173037,\n",
       "       17.24580234, 41.2586559 , 18.16335414, 31.94166151, 31.77008323,\n",
       "       22.23249799, 15.39965856, 22.6147479 , 28.55909826, 29.53435368,\n",
       "       36.73495611, 29.05393574, 33.16928691, 32.04398735, 20.69383195,\n",
       "       35.03322014, 28.2441584 , 19.74699204, 18.76185514, 33.10991638,\n",
       "       27.94649974, 28.65129342, 22.67979828, 28.18458808, 11.64951864,\n",
       "       28.82334323, 27.0595595 , 29.22370442, 18.72392943, 29.25376597,\n",
       "       24.95628993, 30.09666786, 26.67004419, 23.40293856, 23.13191231,\n",
       "       28.46265445, 17.3031074 , 32.62210056, 33.20057068, 24.72510725,\n",
       "       11.2457413 , 27.61124874, 36.2527418 , 22.90678074, 30.15713144,\n",
       "       30.37920191, 19.54460556, 34.51930967, 21.91316591, 28.01269484,\n",
       "       31.83899068, 35.78078438, 26.84143941, 17.64506813, 32.96942044,\n",
       "       30.74607173, 35.3911623 , 31.3881488 , 34.72684784, 22.24256458,\n",
       "       16.90618783, 25.08926437, 12.81133598, 24.92551573, 16.16279656,\n",
       "       32.90621308, 26.75340525, 29.68553731, 33.68187828, 19.11101339,\n",
       "       18.30226119, 16.47751933, 29.95234516, 33.33292437, 36.00708425,\n",
       "       24.49485733, 37.35697712, 30.28190542, 24.00682473, 29.37662979,\n",
       "       16.43028432, 19.13977701, 29.8576332 , 20.34947833, 25.58098905,\n",
       "       18.25327747, 18.63935422, 21.39799694, 18.85542619, 30.33855809,\n",
       "       25.99055063, 20.33333667, 32.16864561, 26.69148411, 26.84651355,\n",
       "       22.23075427, 23.3067336 , 21.17489065, 36.58379936, 36.09866942,\n",
       "       29.82886796, 24.00616213, 36.69610362, 28.52633952, 23.62363121,\n",
       "       29.0462622 , 29.7496024 , 25.90300341, 32.6930435 , 29.44226235,\n",
       "       31.7265864 , 27.99550556, 26.01638064, 23.47481915, 18.65722652,\n",
       "       35.4928519 , 28.31393268, 23.09074764, 35.54760848, 20.24233529,\n",
       "       33.51258528, 31.07772451, 33.17570776, 12.85442065, 28.76275907,\n",
       "       17.99057974, 29.01910139, 25.84602841, 29.58492375, 16.84212394,\n",
       "       22.37418454, 16.05997293, 32.69893213, 14.48869591, 19.55868644,\n",
       "       33.43307536, 21.53442934, 11.96252064, 21.80763391, 34.3686317 ,\n",
       "       22.28291467, 41.51208973, 15.20459683, 18.78446797, 25.88868814,\n",
       "       17.80812453, 20.90530639, 22.50642685, 29.64189835, 25.10812727,\n",
       "       25.31414301, 39.94873978, 24.16252711, 25.22532175, 19.27219349,\n",
       "       17.93793547, 29.891599  , 28.52015798, 25.84449212, 30.10896753,\n",
       "       21.6161495 , 26.420818  , 12.93742395, 22.40621624, 33.98055772,\n",
       "       30.05599081, 18.91923501, 24.15633196, 22.28101005, 26.22121831,\n",
       "       24.5160221 , 32.45398596, 21.3259701 , 29.74915376,  8.27404254,\n",
       "       29.70682507, 31.15428777, 22.43710392, 38.37318429, 30.0203062 ,\n",
       "       20.91323858, 35.02655271, 13.76494608, 18.39787152, 34.17730303,\n",
       "       34.19388208, 18.24587082, 24.91909534, 19.22515535, 21.76472635,\n",
       "       27.59708762, 26.62602205, 26.81851546, 36.08140538, 27.61031579,\n",
       "       29.15087632, 28.10275272,  5.9408375 , 31.24859005, 29.66107557,\n",
       "       35.9288611 , 28.24439261, 26.31841562, 16.11846851, 20.61866615,\n",
       "       31.87795932, 36.03396572, 33.50814775, 35.12212178, 22.9966622 ,\n",
       "       13.63017094, 20.4284136 , 23.51123742, 29.11873969, 13.18327171,\n",
       "       30.81460664, 21.67285897, 39.44106969, 36.59762427, 24.54484154,\n",
       "       25.08328633, 27.58120934, 29.82516584, 30.0881708 , 27.92625818,\n",
       "       23.38952119, 21.05163643, 33.92844292, 34.10648758, 28.60496533,\n",
       "       34.25499998, 23.88327575, 32.65911945, 26.21852002, 15.85835358,\n",
       "       36.28515022, 24.98006761, 38.60088252,  7.9725175 , 21.5383894 ,\n",
       "       18.92990271, 25.37878315, 27.18591159, 25.83522402, 27.74124916,\n",
       "       27.48435313, 27.4131968 , 34.1450649 ,  8.08713387, 27.99020516,\n",
       "       21.46818946, 25.43501789, 31.75817898, 38.49127446, 15.88236706,\n",
       "       42.22782574, 34.55257982, 40.9016202 , 27.09640866, 25.6841121 ,\n",
       "       23.74221311, 24.67821581, 24.56191656, 19.1121628 , 28.04103803,\n",
       "       27.90662975, 24.9895206 , 19.3681411 , 36.88212596, 28.55813571,\n",
       "       23.54533965, 24.49784855, 34.77989029, 29.39806009, 28.08934795,\n",
       "       23.49157294, 34.28238612, 41.84013592, 23.32079258, 43.02001406,\n",
       "       20.43548377, 24.1228019 , 21.21770566, 27.68104163, 32.77286812,\n",
       "       29.41131882, 34.66644122, 23.24515804, 11.31195257, 32.52425775,\n",
       "       13.38711041, 25.98010928, 21.94040084, 27.11163279, 21.24641201,\n",
       "       27.75509224, 31.01466176, 17.09138922, 34.20496707, 27.55527318,\n",
       "       26.33208294, 24.45504605, 28.46246588, 37.35204146, 38.55266017,\n",
       "       12.61207337, 29.41298671, 28.41121   ,  7.71660824, 30.33154614,\n",
       "       24.94886147, 30.88911371, 29.94946395, 33.56000558, 25.91338791,\n",
       "       20.59758398, 23.0599931 , 28.30239355, 21.85953159, 32.8459952 ,\n",
       "       27.24954382, 27.26229395, 35.03577909, 20.65408382, 26.30155099,\n",
       "       37.63885404, 25.90253863, 18.78304924, 14.16235954, 27.53887442,\n",
       "       33.76837751, 21.60451253, 16.68304324, 22.97886466, 34.43521279,\n",
       "       32.8330942 , 19.83523788, 25.56107849, 22.18466846, 27.84280429,\n",
       "       33.49970177, 28.2945483 , 27.05212557, 20.15583433, 30.72145892,\n",
       "       27.87496354, 29.73011904, 33.18042972, 13.45837877, 35.7206899 ,\n",
       "       32.48403809, 37.78569031, 12.03311162, 37.07844408, 37.04445942,\n",
       "       27.56654552, 25.27417507, 36.22228691, 21.98375798, 32.93558728,\n",
       "       22.18346282, 45.1020057 , 30.74158786, 25.68302414, 28.17282067,\n",
       "       40.08716377, 30.05670051, 26.71684218, 26.39577324, 30.08758259,\n",
       "        9.78043284, 27.2135606 , 22.13921486, 18.46473192, 28.0380373 ,\n",
       "       30.81383562, 31.44153401, 36.55134877, 22.64614798, 21.58197546,\n",
       "       39.01807467, 28.79350914, 23.72458295, 30.58455195, 23.1720305 ,\n",
       "       19.78000316, 37.2054392 , 25.01271705, 17.72608926, 32.31418665,\n",
       "       24.52620751, 20.60882055, 32.94697706, 32.31164435, 34.32460939,\n",
       "       35.77456058, 25.79296981, 34.70885887, 31.1508586 , 19.47618268,\n",
       "       24.47639801, 17.92947855, 28.86953644, 27.07957988, 24.53923366,\n",
       "       23.46894774, 38.91295152, 34.9572531 , 28.96377226, 26.24056599,\n",
       "       27.86632249, 24.27627493, 27.56712517, 22.05101761, 25.27895632,\n",
       "       17.55087544, 43.27472567, 28.66901859, 23.77361559, 17.53739897,\n",
       "       25.09107964, 22.23015681, 19.28324617, 18.0981554 , 23.14700084,\n",
       "       17.43829901, 27.18671161, 20.07268151, 25.14743324, 15.56166643,\n",
       "       32.53669664, 22.82841983, 16.17736002, 22.7280322 , 36.45086624,\n",
       "       34.03490546, 35.04413411, 31.55080323, 19.29305586, 43.32964625,\n",
       "       25.27518734, 22.7411353 , 24.62320818, 31.28691278, 23.16056693,\n",
       "       30.10719807, 18.30655578, 18.68414819, 18.13124367, 24.55424164,\n",
       "       28.83970476, 20.35966693, 23.22788398, 31.30051191, 19.33814422,\n",
       "       32.2226534 , 20.15903892, 28.80698239, 27.86849407, 21.67420658,\n",
       "       29.78906526, 18.85774258, 31.20486582, 25.61519855, 26.93962396,\n",
       "       23.69866901, 21.55309837, 32.16226078, 22.37216846, 20.98420307,\n",
       "       32.59514227, 26.92663325, 40.33564272, 18.93865607, 23.58902662,\n",
       "       33.27400688, 23.88243265, 21.74098911, 20.68102681, 25.21951647,\n",
       "       32.25257716, 23.36709251, 19.02211054, 30.06923321, 25.99680814,\n",
       "       37.7487417 , 25.01411187, 34.46219697, 33.10866174, 32.83603   ,\n",
       "       35.22456373, 39.38636854, 35.20943579, 19.57413584, 21.56441239,\n",
       "       35.02878177, 40.55007183, 22.33692172, 31.7140543 , 27.53501585,\n",
       "       30.6167472 , 16.1817424 , 28.19600658, 25.2753105 , 20.63828245,\n",
       "       22.37811591, 14.444852  , 28.66043704, 39.30713431, 28.42743897,\n",
       "       13.13149684, 36.38469007, 31.99075712, 20.50589014, 31.15882653,\n",
       "       30.7155211 , 27.3432339 , 39.56066615, 17.49426467, 13.98366409,\n",
       "       19.6449218 , 36.90812646, 19.43759805, 29.59376198, 37.22623521,\n",
       "       31.71528373, 19.3220691 , 26.49372692, 32.78824793, 19.24623809,\n",
       "       32.30177517, 26.49960788, 18.35141446, 20.42188057, 15.24147235,\n",
       "       25.24349707, 36.93637148, 37.62501503, 28.17889279, 21.58280536,\n",
       "       25.54108607, 37.12173951, 35.25195807, 22.26151094, 12.4249382 ,\n",
       "       22.98596803, 18.69737517, 24.79123103, 12.9768861 , 30.0589486 ,\n",
       "       25.19990141, 24.32631198, 25.04890747, 33.0030047 , 24.11876373,\n",
       "       23.41247257, 39.09392362, 38.26746718, 28.84693306, 25.54526645,\n",
       "       17.10704234, 23.82046903, 33.15477065, 20.94304238, 23.81313817,\n",
       "       42.89400701, 28.39507185, 34.47208738, 31.27105132, 21.82963141,\n",
       "       24.50543527, 31.04215198, 31.01483817, 29.73858004, 34.89677615,\n",
       "       34.32135278, 25.93762823, 15.67146699, 25.31514145, 20.7797589 ,\n",
       "       35.29877776, 36.32461423, 26.56452286, 21.35035266, 25.17262846,\n",
       "       26.17428049, 27.22011537, 18.05522262, 29.25190924, 22.62813653,\n",
       "       18.76177884, 19.43703554, 34.99128042, 24.55824711, 39.56172279])"
      ]
     },
     "execution_count": 12,
     "metadata": {},
     "output_type": "execute_result"
    }
   ],
   "source": [
    "x_predict=model.predict(x_train)\n",
    "x_predict"
   ]
  },
  {
   "cell_type": "markdown",
   "id": "08ceaaf9-9de6-474e-98da-a2bb6d27f868",
   "metadata": {},
   "source": [
    "**5. Membuat Data Frame untuk nilai aktual dan nilai prediksi**"
   ]
  },
  {
   "cell_type": "code",
   "execution_count": 13,
   "id": "b8cdf4ac-51b0-4565-8607-ff6950d60e6f",
   "metadata": {},
   "outputs": [
    {
     "data": {
      "text/html": [
       "<div>\n",
       "<style scoped>\n",
       "    .dataframe tbody tr th:only-of-type {\n",
       "        vertical-align: middle;\n",
       "    }\n",
       "\n",
       "    .dataframe tbody tr th {\n",
       "        vertical-align: top;\n",
       "    }\n",
       "\n",
       "    .dataframe thead th {\n",
       "        text-align: right;\n",
       "    }\n",
       "</style>\n",
       "<table border=\"1\" class=\"dataframe\">\n",
       "  <thead>\n",
       "    <tr style=\"text-align: right;\">\n",
       "      <th></th>\n",
       "      <th>Actual</th>\n",
       "      <th>Predict</th>\n",
       "    </tr>\n",
       "  </thead>\n",
       "  <tbody>\n",
       "    <tr>\n",
       "      <th>993</th>\n",
       "      <td>12.404925</td>\n",
       "      <td>19.668634</td>\n",
       "    </tr>\n",
       "    <tr>\n",
       "      <th>859</th>\n",
       "      <td>42.641924</td>\n",
       "      <td>45.086785</td>\n",
       "    </tr>\n",
       "    <tr>\n",
       "      <th>298</th>\n",
       "      <td>32.613985</td>\n",
       "      <td>35.095567</td>\n",
       "    </tr>\n",
       "    <tr>\n",
       "      <th>553</th>\n",
       "      <td>42.598531</td>\n",
       "      <td>41.445739</td>\n",
       "    </tr>\n",
       "    <tr>\n",
       "      <th>672</th>\n",
       "      <td>34.519670</td>\n",
       "      <td>33.152894</td>\n",
       "    </tr>\n",
       "    <tr>\n",
       "      <th>...</th>\n",
       "      <td>...</td>\n",
       "      <td>...</td>\n",
       "    </tr>\n",
       "    <tr>\n",
       "      <th>679</th>\n",
       "      <td>31.147866</td>\n",
       "      <td>34.995008</td>\n",
       "    </tr>\n",
       "    <tr>\n",
       "      <th>722</th>\n",
       "      <td>35.924525</td>\n",
       "      <td>34.129958</td>\n",
       "    </tr>\n",
       "    <tr>\n",
       "      <th>215</th>\n",
       "      <td>40.378456</td>\n",
       "      <td>35.523578</td>\n",
       "    </tr>\n",
       "    <tr>\n",
       "      <th>653</th>\n",
       "      <td>37.678016</td>\n",
       "      <td>31.801034</td>\n",
       "    </tr>\n",
       "    <tr>\n",
       "      <th>150</th>\n",
       "      <td>35.979980</td>\n",
       "      <td>30.749036</td>\n",
       "    </tr>\n",
       "  </tbody>\n",
       "</table>\n",
       "<p>200 rows × 2 columns</p>\n",
       "</div>"
      ],
      "text/plain": [
       "        Actual    Predict\n",
       "993  12.404925  19.668634\n",
       "859  42.641924  45.086785\n",
       "298  32.613985  35.095567\n",
       "553  42.598531  41.445739\n",
       "672  34.519670  33.152894\n",
       "..         ...        ...\n",
       "679  31.147866  34.995008\n",
       "722  35.924525  34.129958\n",
       "215  40.378456  35.523578\n",
       "653  37.678016  31.801034\n",
       "150  35.979980  30.749036\n",
       "\n",
       "[200 rows x 2 columns]"
      ]
     },
     "execution_count": 13,
     "metadata": {},
     "output_type": "execute_result"
    }
   ],
   "source": [
    "new_df=pd.DataFrame({\"Actual\":y_test,\"Predict\":y_predict})\n",
    "new_df"
   ]
  },
  {
   "cell_type": "markdown",
   "id": "cc602ec2-afb6-4e2b-9773-6eb4ed637ff0",
   "metadata": {},
   "source": [
    "## Visualisasi Hasil Pembagian Dataset\n",
    "\n",
    "Dengan membuat regression line dengan cara membuat koefisien dari data dan intercept dari dataset untuk melihat garis tengah dari distribusi data training maupun testing"
   ]
  },
  {
   "cell_type": "code",
   "execution_count": 24,
   "id": "3ab81198-5e4b-463b-87a5-4bc7097c18e6",
   "metadata": {},
   "outputs": [],
   "source": [
    "slope = model.coef_[0]\n",
    "intercept = model.intercept_"
   ]
  },
  {
   "cell_type": "markdown",
   "id": "4431bdcc-9127-4e7c-993f-954484b1a0fe",
   "metadata": {},
   "source": [
    "### Visualisasi Training Dataset\n",
    "\n",
    "Setelah membuat regression line maka dapat dilakukan visualisasi untuk training dataset seperti dibawah ini"
   ]
  },
  {
   "cell_type": "code",
   "execution_count": 25,
   "id": "17ba393c-fdee-47fb-936b-53c29f5fb5a5",
   "metadata": {},
   "outputs": [
    {
     "data": {
      "image/png": "[encoded data removed]",
      "text/plain": [
       "<Figure size 640x480 with 1 Axes>"
      ]
     },
     "metadata": {},
     "output_type": "display_data"
    }
   ],
   "source": [
    "plt.plot(x, intercept + slope * x, color='b')\n",
    "plt.scatter(x_train,y_train,color=\"r\",marker=\".\")\n",
    "plt.title(\"Visualisasi Training Dataset\")\n",
    "plt.xlabel(\"Pengalaman Kerja (dalam bulan)\")\n",
    "plt.ylabel(\"Gaji\")\n",
    "plt.show()"
   ]
  },
  {
   "cell_type": "markdown",
   "id": "fa4cd662-d8dc-45d5-a43c-854752800f2b",
   "metadata": {},
   "source": [
    "#### Plotting Test Dataset\n",
    "\n",
    "Setelah membuat regression line maka dapat dilakukan visualisasi untuk test dataset seperti dibawah ini"
   ]
  },
  {
   "cell_type": "code",
   "execution_count": 26,
   "id": "02ba880b-2015-4f7f-a1b8-b81484c73885",
   "metadata": {},
   "outputs": [
    {
     "data": {
      "image/png": "[encoded data removed]",
      "text/plain": [
       "<Figure size 640x480 with 1 Axes>"
      ]
     },
     "metadata": {},
     "output_type": "display_data"
    }
   ],
   "source": [
    "plt.plot(x_test, intercept + slope * x_test, color='b')\n",
    "plt.scatter(x_test,y_test,color=\"r\",marker=\".\")\n",
    "plt.title(\"Visualisasi Test Dataset\")\n",
    "plt.xlabel(\"Pengalaman Kerja (dalam bulan)\")\n",
    "plt.ylabel(\"Gaji\")\n",
    "plt.show()"
   ]
  },
  {
   "cell_type": "markdown",
   "id": "0afc4832-86f0-484a-959f-b5888b1e9b2e",
   "metadata": {},
   "source": [
    "## Hasil Model\n",
    "\n",
    "Setelah melakukan visualisasi model maka dapat dilakukan analisa hasil pelatihan model dengan melihat score."
   ]
  },
  {
   "cell_type": "markdown",
   "id": "3c8bcf02-04c9-481e-98f1-000480fd167f",
   "metadata": {},
   "source": [
    "### Training Score"
   ]
  },
  {
   "cell_type": "code",
   "execution_count": 17,
   "id": "44518529-c398-41e6-b38b-4f7ed1a5c025",
   "metadata": {},
   "outputs": [
    {
     "name": "stdout",
     "output_type": "stream",
     "text": [
      "Hasil Model Training adalah 63.152747108107675\n"
     ]
    }
   ],
   "source": [
    "training_score = model.score(x_train,y_train)*100\n",
    "\n",
    "print(f\"Hasil Model Training adalah {training_score}\")"
   ]
  },
  {
   "cell_type": "markdown",
   "id": "2879929e-172e-400f-a1be-41793d403a3b",
   "metadata": {},
   "source": [
    "### Testing Score"
   ]
  },
  {
   "cell_type": "code",
   "execution_count": 18,
   "id": "5f2620a7-bf75-4fd3-a69d-cf5e78fd182f",
   "metadata": {},
   "outputs": [
    {
     "name": "stdout",
     "output_type": "stream",
     "text": [
      "Hasil Model Training adalah 74.6188470890027\n"
     ]
    }
   ],
   "source": [
    "testing_score = model.score(x_test,y_test)*100\n",
    "\n",
    "print(f\"Hasil Model Training adalah {testing_score}\")"
   ]
  },
  {
   "cell_type": "markdown",
   "id": "3d5825aa-d648-43ad-be5a-35594c6b6d6f",
   "metadata": {},
   "source": [
    "## Akurasi Model\n",
    "\n",
    "Setelah membuat model maka akan dilakukan pengecekan akurasi dengan menggunakan beberapa metrik sesuai dengan https://scikit-learn.org/stable/modules/model_evaluation.html|\n"
   ]
  },
  {
   "cell_type": "markdown",
   "id": "0fa38b8f-62bd-46d0-8a8f-b0af6a01108b",
   "metadata": {},
   "source": [
    "### Mean Squared Error\n",
    "\n",
    "di sisi lain, adalah rata-rata kotak kesalahan. Ini adalah metrik yang lebih umum daripada MAE karena menghukum kesalahan besar lebih karena operasi squaring."
   ]
  },
  {
   "cell_type": "code",
   "execution_count": 19,
   "id": "2d0b4458-0dae-4e10-b878-18687cd7cf9b",
   "metadata": {},
   "outputs": [
    {
     "name": "stdout",
     "output_type": "stream",
     "text": [
      "Hasil MSE adalah 4.73321799876635\n"
     ]
    }
   ],
   "source": [
    "from sklearn.metrics import mean_squared_error\n",
    "import numpy as np\n",
    "mse=mean_squared_error(y_test,y_predict)\n",
    "hasil_mse=np.sqrt(mean_squared_error(y_test,y_predict))\n",
    "\n",
    "print(f\"Hasil MSE adalah {hasil_mse}\")"
   ]
  },
  {
   "cell_type": "markdown",
   "id": "caed7ff6-4fb5-4f29-add0-ac73e842d43b",
   "metadata": {},
   "source": [
    "### Mean Absolute Error\n",
    "\n",
    "MAE adalah ukuran besarnya rata-rata kesalahan dalam satu set prediksi, tanpa mempertimbangkan arah mereka. Ini adalah rata-rata atas sampel uji perbedaan absolut antara prediksi dan pengamatan aktual di mana semua perbedaan individu memiliki berat yang sama. Ini memberikan indikasi bagaimana salah prediksi."
   ]
  },
  {
   "cell_type": "code",
   "execution_count": 20,
   "id": "f4f2c1c0-d71d-48f1-bf9b-20f5fba4c8a7",
   "metadata": {},
   "outputs": [
    {
     "name": "stdout",
     "output_type": "stream",
     "text": [
      "Hasil MSE adalah 3.720236310827896\n"
     ]
    }
   ],
   "source": [
    "from sklearn.metrics import mean_absolute_error\n",
    "mae=mean_absolute_error(y_test,y_predict)\n",
    "\n",
    "print(f\"Hasil MSE adalah {mae}\")"
   ]
  },
  {
   "cell_type": "markdown",
   "id": "53c0a51f-3a77-44be-8c51-c2b413af999a",
   "metadata": {},
   "source": [
    "### R2 Score\n",
    "\n",
    "Juga dikenal sebagai koefisien determinasi, adalah ukuran statistik yang menunjukkan proporsi varians untuk variabel dependen yang dijelaskan oleh variabel independen dalam model regresi. Secara sederhana, ini menunjukkan seberapa baik model regresi cocok dengan data."
   ]
  },
  {
   "cell_type": "code",
   "execution_count": 21,
   "id": "97fa5fcd-811d-440c-9661-19cfbe3d9892",
   "metadata": {},
   "outputs": [
    {
     "name": "stdout",
     "output_type": "stream",
     "text": [
      "Hasil R2 Score adalah 74.6188470890027\n"
     ]
    }
   ],
   "source": [
    "from sklearn.metrics import r2_score\n",
    "r2=r2_score(y_test,y_predict)*100\n",
    "print(f\"Hasil R2 Score adalah {r2}\")"
   ]
  }
 ],
 "metadata": {
  "kernelspec": {
   "display_name": "Python 3 (ipykernel)",
   "language": "python",
   "name": "python3"
  },
  "language_info": {
   "codemirror_mode": {
    "name": "ipython",
    "version": 3
   },
   "file_extension": ".py",
   "mimetype": "text/x-python",
   "name": "python",
   "nbconvert_exporter": "python",
   "pygments_lexer": "ipython3",
   "version": "3.11.6"
  }
 },
 "nbformat": 4,
 "nbformat_minor": 5
}
