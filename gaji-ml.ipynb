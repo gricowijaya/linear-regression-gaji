{
 "cells": [
  {
   "cell_type": "markdown",
   "id": "6d99629d-4731-41ed-b20c-fd2fd22bacbf",
   "metadata": {},
   "source": [
    "# Prediksi Pendapatan Pengunjung Mall"
   ]
  },
  {
   "cell_type": "markdown",
   "id": "5581cd76-12f6-4c0a-9096-823444eed3a0",
   "metadata": {},
   "source": [
    "Langkah pertama adalah melakukan instalasi library pandas untuk membaca dataset pengunjung mall"
   ]
  },
  {
   "cell_type": "code",
   "execution_count": 1,
   "id": "5c548efa-1664-42f1-91a6-fceea753172c",
   "metadata": {},
   "outputs": [
    {
     "name": "stdout",
     "output_type": "stream",
     "text": [
      "Requirement already satisfied: pandas in ./venv/lib/python3.11/site-packages (2.1.4)\n",
      "Requirement already satisfied: seaborn in ./venv/lib/python3.11/site-packages (0.13.0)\n",
      "Requirement already satisfied: matplotlib in ./venv/lib/python3.11/site-packages (3.8.2)\n",
      "Requirement already satisfied: scikit-learn in ./venv/lib/python3.11/site-packages (1.3.2)\n",
      "Requirement already satisfied: numpy<2,>=1.23.2 in ./venv/lib/python3.11/site-packages (from pandas) (1.26.2)\n",
      "Requirement already satisfied: python-dateutil>=2.8.2 in ./venv/lib/python3.11/site-packages (from pandas) (2.8.2)\n",
      "Requirement already satisfied: pytz>=2020.1 in ./venv/lib/python3.11/site-packages (from pandas) (2023.3.post1)\n",
      "Requirement already satisfied: tzdata>=2022.1 in ./venv/lib/python3.11/site-packages (from pandas) (2023.4)\n",
      "Requirement already satisfied: contourpy>=1.0.1 in ./venv/lib/python3.11/site-packages (from matplotlib) (1.2.0)\n",
      "Requirement already satisfied: cycler>=0.10 in ./venv/lib/python3.11/site-packages (from matplotlib) (0.12.1)\n",
      "Requirement already satisfied: fonttools>=4.22.0 in ./venv/lib/python3.11/site-packages (from matplotlib) (4.47.0)\n",
      "Requirement already satisfied: kiwisolver>=1.3.1 in ./venv/lib/python3.11/site-packages (from matplotlib) (1.4.5)\n",
      "Requirement already satisfied: packaging>=20.0 in ./venv/lib/python3.11/site-packages (from matplotlib) (23.2)\n",
      "Requirement already satisfied: pillow>=8 in ./venv/lib/python3.11/site-packages (from matplotlib) (10.1.0)\n",
      "Requirement already satisfied: pyparsing>=2.3.1 in ./venv/lib/python3.11/site-packages (from matplotlib) (3.1.1)\n",
      "Requirement already satisfied: scipy>=1.5.0 in ./venv/lib/python3.11/site-packages (from scikit-learn) (1.11.4)\n",
      "Requirement already satisfied: joblib>=1.1.1 in ./venv/lib/python3.11/site-packages (from scikit-learn) (1.3.2)\n",
      "Requirement already satisfied: threadpoolctl>=2.0.0 in ./venv/lib/python3.11/site-packages (from scikit-learn) (3.2.0)\n",
      "Requirement already satisfied: six>=1.5 in ./venv/lib/python3.11/site-packages (from python-dateutil>=2.8.2->pandas) (1.16.0)\n",
      "\n",
      "\u001b[1m[\u001b[0m\u001b[34;49mnotice\u001b[0m\u001b[1;39;49m]\u001b[0m\u001b[39;49m A new release of pip is available: \u001b[0m\u001b[31;49m23.2.1\u001b[0m\u001b[39;49m -> \u001b[0m\u001b[32;49m23.3.2\u001b[0m\n",
      "\u001b[1m[\u001b[0m\u001b[34;49mnotice\u001b[0m\u001b[1;39;49m]\u001b[0m\u001b[39;49m To update, run: \u001b[0m\u001b[32;49mpip install --upgrade pip\u001b[0m\n"
     ]
    }
   ],
   "source": [
    "!pip install pandas seaborn matplotlib scikit-learn"
   ]
  },
  {
   "cell_type": "markdown",
   "id": "675228fe-aac8-4ba9-8f23-abcb68cdc84f",
   "metadata": {},
   "source": [
    "Selanjutnya adalah membaca dataset dengan library pandas"
   ]
  },
  {
   "cell_type": "code",
   "execution_count": 2,
   "id": "4e5880c0-6966-43ee-b550-0098fbe97d49",
   "metadata": {},
   "outputs": [
    {
     "data": {
      "text/html": [
       "<div>\n",
       "<style scoped>\n",
       "    .dataframe tbody tr th:only-of-type {\n",
       "        vertical-align: middle;\n",
       "    }\n",
       "\n",
       "    .dataframe tbody tr th {\n",
       "        vertical-align: top;\n",
       "    }\n",
       "\n",
       "    .dataframe thead th {\n",
       "        text-align: right;\n",
       "    }\n",
       "</style>\n",
       "<table border=\"1\" class=\"dataframe\">\n",
       "  <thead>\n",
       "    <tr style=\"text-align: right;\">\n",
       "      <th></th>\n",
       "      <th>ID</th>\n",
       "      <th>LamaPengalamanKerja-Tahun</th>\n",
       "      <th>Gaji</th>\n",
       "    </tr>\n",
       "  </thead>\n",
       "  <tbody>\n",
       "    <tr>\n",
       "      <th>0</th>\n",
       "      <td>0</td>\n",
       "      <td>1.2</td>\n",
       "      <td>3275388.0</td>\n",
       "    </tr>\n",
       "    <tr>\n",
       "      <th>1</th>\n",
       "      <td>1</td>\n",
       "      <td>1.4</td>\n",
       "      <td>3846649.5</td>\n",
       "    </tr>\n",
       "    <tr>\n",
       "      <th>2</th>\n",
       "      <td>2</td>\n",
       "      <td>1.6</td>\n",
       "      <td>3141189.0</td>\n",
       "    </tr>\n",
       "    <tr>\n",
       "      <th>3</th>\n",
       "      <td>3</td>\n",
       "      <td>2.1</td>\n",
       "      <td>3623539.5</td>\n",
       "    </tr>\n",
       "    <tr>\n",
       "      <th>4</th>\n",
       "      <td>4</td>\n",
       "      <td>2.3</td>\n",
       "      <td>3321009.0</td>\n",
       "    </tr>\n",
       "  </tbody>\n",
       "</table>\n",
       "</div>"
      ],
      "text/plain": [
       "   ID  LamaPengalamanKerja-Tahun       Gaji\n",
       "0   0                        1.2  3275388.0\n",
       "1   1                        1.4  3846649.5\n",
       "2   2                        1.6  3141189.0\n",
       "3   3                        2.1  3623539.5\n",
       "4   4                        2.3  3321009.0"
      ]
     },
     "execution_count": 2,
     "metadata": {},
     "output_type": "execute_result"
    }
   ],
   "source": [
    "import pandas as pd\n",
    "\n",
    "file_path = 'dataset/gaji.csv'\n",
    "data = pd.read_csv(file_path)\n",
    "data.head()"
   ]
  },
  {
   "cell_type": "markdown",
   "id": "04bd2d44-f799-4694-bcba-14b4330ccd72",
   "metadata": {},
   "source": [
    "Dilihat dari gambar diatas terdapat data mengenai lama pengalaman bekerja dalam satu tahun dan gaji dalam USD"
   ]
  },
  {
   "cell_type": "code",
   "execution_count": 3,
   "id": "09d69421-4197-4bee-8389-e72081e92f9b",
   "metadata": {},
   "outputs": [
    {
     "data": {
      "text/html": [
       "<div>\n",
       "<style scoped>\n",
       "    .dataframe tbody tr th:only-of-type {\n",
       "        vertical-align: middle;\n",
       "    }\n",
       "\n",
       "    .dataframe tbody tr th {\n",
       "        vertical-align: top;\n",
       "    }\n",
       "\n",
       "    .dataframe thead th {\n",
       "        text-align: right;\n",
       "    }\n",
       "</style>\n",
       "<table border=\"1\" class=\"dataframe\">\n",
       "  <thead>\n",
       "    <tr style=\"text-align: right;\">\n",
       "      <th></th>\n",
       "      <th>LamaPengalamanKerja-Tahun</th>\n",
       "      <th>Gaji</th>\n",
       "    </tr>\n",
       "  </thead>\n",
       "  <tbody>\n",
       "    <tr>\n",
       "      <th>0</th>\n",
       "      <td>1.2</td>\n",
       "      <td>3275388.00</td>\n",
       "    </tr>\n",
       "    <tr>\n",
       "      <th>1</th>\n",
       "      <td>1.4</td>\n",
       "      <td>3846649.50</td>\n",
       "    </tr>\n",
       "    <tr>\n",
       "      <th>2</th>\n",
       "      <td>1.6</td>\n",
       "      <td>3141189.00</td>\n",
       "    </tr>\n",
       "    <tr>\n",
       "      <th>3</th>\n",
       "      <td>2.1</td>\n",
       "      <td>3623539.50</td>\n",
       "    </tr>\n",
       "    <tr>\n",
       "      <th>4</th>\n",
       "      <td>2.3</td>\n",
       "      <td>3321009.00</td>\n",
       "    </tr>\n",
       "    <tr>\n",
       "      <th>5</th>\n",
       "      <td>3.0</td>\n",
       "      <td>4715529.75</td>\n",
       "    </tr>\n",
       "    <tr>\n",
       "      <th>6</th>\n",
       "      <td>3.1</td>\n",
       "      <td>5007570.75</td>\n",
       "    </tr>\n",
       "    <tr>\n",
       "      <th>7</th>\n",
       "      <td>3.3</td>\n",
       "      <td>4532629.50</td>\n",
       "    </tr>\n",
       "    <tr>\n",
       "      <th>8</th>\n",
       "      <td>3.3</td>\n",
       "      <td>5365129.50</td>\n",
       "    </tr>\n",
       "    <tr>\n",
       "      <th>9</th>\n",
       "      <td>3.8</td>\n",
       "      <td>4761067.50</td>\n",
       "    </tr>\n",
       "    <tr>\n",
       "      <th>10</th>\n",
       "      <td>4.0</td>\n",
       "      <td>5262981.75</td>\n",
       "    </tr>\n",
       "    <tr>\n",
       "      <th>11</th>\n",
       "      <td>4.1</td>\n",
       "      <td>4644933.75</td>\n",
       "    </tr>\n",
       "    <tr>\n",
       "      <th>12</th>\n",
       "      <td>4.1</td>\n",
       "      <td>4741753.50</td>\n",
       "    </tr>\n",
       "    <tr>\n",
       "      <th>13</th>\n",
       "      <td>4.2</td>\n",
       "      <td>4752076.50</td>\n",
       "    </tr>\n",
       "    <tr>\n",
       "      <th>14</th>\n",
       "      <td>4.6</td>\n",
       "      <td>5087574.00</td>\n",
       "    </tr>\n",
       "    <tr>\n",
       "      <th>15</th>\n",
       "      <td>5.0</td>\n",
       "      <td>5655921.75</td>\n",
       "    </tr>\n",
       "    <tr>\n",
       "      <th>16</th>\n",
       "      <td>5.2</td>\n",
       "      <td>5496997.50</td>\n",
       "    </tr>\n",
       "    <tr>\n",
       "      <th>17</th>\n",
       "      <td>5.4</td>\n",
       "      <td>6917159.25</td>\n",
       "    </tr>\n",
       "    <tr>\n",
       "      <th>18</th>\n",
       "      <td>6.0</td>\n",
       "      <td>6773553.00</td>\n",
       "    </tr>\n",
       "    <tr>\n",
       "      <th>19</th>\n",
       "      <td>6.1</td>\n",
       "      <td>7820588.25</td>\n",
       "    </tr>\n",
       "    <tr>\n",
       "      <th>20</th>\n",
       "      <td>6.9</td>\n",
       "      <td>7637271.75</td>\n",
       "    </tr>\n",
       "    <tr>\n",
       "      <th>21</th>\n",
       "      <td>7.2</td>\n",
       "      <td>8181310.50</td>\n",
       "    </tr>\n",
       "    <tr>\n",
       "      <th>22</th>\n",
       "      <td>8.0</td>\n",
       "      <td>8433474.75</td>\n",
       "    </tr>\n",
       "    <tr>\n",
       "      <th>23</th>\n",
       "      <td>8.3</td>\n",
       "      <td>9474932.25</td>\n",
       "    </tr>\n",
       "    <tr>\n",
       "      <th>24</th>\n",
       "      <td>8.8</td>\n",
       "      <td>9110214.00</td>\n",
       "    </tr>\n",
       "    <tr>\n",
       "      <th>25</th>\n",
       "      <td>9.1</td>\n",
       "      <td>8789784.75</td>\n",
       "    </tr>\n",
       "    <tr>\n",
       "      <th>26</th>\n",
       "      <td>9.6</td>\n",
       "      <td>9737752.50</td>\n",
       "    </tr>\n",
       "    <tr>\n",
       "      <th>27</th>\n",
       "      <td>9.7</td>\n",
       "      <td>9376947.00</td>\n",
       "    </tr>\n",
       "    <tr>\n",
       "      <th>28</th>\n",
       "      <td>10.4</td>\n",
       "      <td>10189134.00</td>\n",
       "    </tr>\n",
       "    <tr>\n",
       "      <th>29</th>\n",
       "      <td>10.6</td>\n",
       "      <td>10145927.25</td>\n",
       "    </tr>\n",
       "  </tbody>\n",
       "</table>\n",
       "</div>"
      ],
      "text/plain": [
       "    LamaPengalamanKerja-Tahun         Gaji\n",
       "0                         1.2   3275388.00\n",
       "1                         1.4   3846649.50\n",
       "2                         1.6   3141189.00\n",
       "3                         2.1   3623539.50\n",
       "4                         2.3   3321009.00\n",
       "5                         3.0   4715529.75\n",
       "6                         3.1   5007570.75\n",
       "7                         3.3   4532629.50\n",
       "8                         3.3   5365129.50\n",
       "9                         3.8   4761067.50\n",
       "10                        4.0   5262981.75\n",
       "11                        4.1   4644933.75\n",
       "12                        4.1   4741753.50\n",
       "13                        4.2   4752076.50\n",
       "14                        4.6   5087574.00\n",
       "15                        5.0   5655921.75\n",
       "16                        5.2   5496997.50\n",
       "17                        5.4   6917159.25\n",
       "18                        6.0   6773553.00\n",
       "19                        6.1   7820588.25\n",
       "20                        6.9   7637271.75\n",
       "21                        7.2   8181310.50\n",
       "22                        8.0   8433474.75\n",
       "23                        8.3   9474932.25\n",
       "24                        8.8   9110214.00\n",
       "25                        9.1   8789784.75\n",
       "26                        9.6   9737752.50\n",
       "27                        9.7   9376947.00\n",
       "28                       10.4  10189134.00\n",
       "29                       10.6  10145927.25"
      ]
     },
     "execution_count": 3,
     "metadata": {},
     "output_type": "execute_result"
    }
   ],
   "source": [
    "data.drop(['ID'],axis=1,inplace=True)\n",
    "data"
   ]
  },
  {
   "cell_type": "markdown",
   "id": "06d59492-5147-47db-a6b5-264ef34f241c",
   "metadata": {},
   "source": [
    "### Melihat Deskripsi Data\n",
    "\n",
    "Dapat dilakukan untuk melihat jumlah untuk dihitung dan rata-rata serta informasi lainnya mengenai data yang akan dianalisa seperti dibawah ini.\\\n",
    "Data ini nantinya akan digunakan sebagai pelatihan model machine learning yang akan dibangun."
   ]
  },
  {
   "cell_type": "code",
   "execution_count": 4,
   "id": "a80d6dec-576e-4da2-a70c-3aeb533eb1cc",
   "metadata": {},
   "outputs": [
    {
     "data": {
      "text/html": [
       "<div>\n",
       "<style scoped>\n",
       "    .dataframe tbody tr th:only-of-type {\n",
       "        vertical-align: middle;\n",
       "    }\n",
       "\n",
       "    .dataframe tbody tr th {\n",
       "        vertical-align: top;\n",
       "    }\n",
       "\n",
       "    .dataframe thead th {\n",
       "        text-align: right;\n",
       "    }\n",
       "</style>\n",
       "<table border=\"1\" class=\"dataframe\">\n",
       "  <thead>\n",
       "    <tr style=\"text-align: right;\">\n",
       "      <th></th>\n",
       "      <th>LamaPengalamanKerja-Tahun</th>\n",
       "      <th>Gaji</th>\n",
       "    </tr>\n",
       "  </thead>\n",
       "  <tbody>\n",
       "    <tr>\n",
       "      <th>count</th>\n",
       "      <td>30.000000</td>\n",
       "      <td>3.000000e+01</td>\n",
       "    </tr>\n",
       "    <tr>\n",
       "      <th>mean</th>\n",
       "      <td>5.413333</td>\n",
       "      <td>6.327333e+06</td>\n",
       "    </tr>\n",
       "    <tr>\n",
       "      <th>std</th>\n",
       "      <td>2.837888</td>\n",
       "      <td>2.282251e+06</td>\n",
       "    </tr>\n",
       "    <tr>\n",
       "      <th>min</th>\n",
       "      <td>1.200000</td>\n",
       "      <td>3.141189e+06</td>\n",
       "    </tr>\n",
       "    <tr>\n",
       "      <th>25%</th>\n",
       "      <td>3.300000</td>\n",
       "      <td>4.722086e+06</td>\n",
       "    </tr>\n",
       "    <tr>\n",
       "      <th>50%</th>\n",
       "      <td>4.800000</td>\n",
       "      <td>5.431064e+06</td>\n",
       "    </tr>\n",
       "    <tr>\n",
       "      <th>75%</th>\n",
       "      <td>7.800000</td>\n",
       "      <td>8.370434e+06</td>\n",
       "    </tr>\n",
       "    <tr>\n",
       "      <th>max</th>\n",
       "      <td>10.600000</td>\n",
       "      <td>1.018913e+07</td>\n",
       "    </tr>\n",
       "  </tbody>\n",
       "</table>\n",
       "</div>"
      ],
      "text/plain": [
       "       LamaPengalamanKerja-Tahun          Gaji\n",
       "count                  30.000000  3.000000e+01\n",
       "mean                    5.413333  6.327333e+06\n",
       "std                     2.837888  2.282251e+06\n",
       "min                     1.200000  3.141189e+06\n",
       "25%                     3.300000  4.722086e+06\n",
       "50%                     4.800000  5.431064e+06\n",
       "75%                     7.800000  8.370434e+06\n",
       "max                    10.600000  1.018913e+07"
      ]
     },
     "execution_count": 4,
     "metadata": {},
     "output_type": "execute_result"
    }
   ],
   "source": [
    "data.describe()"
   ]
  },
  {
   "cell_type": "markdown",
   "id": "87aba2a4-576e-4ecc-945f-cf89376e06b2",
   "metadata": {},
   "source": [
    "### Visualisasi Data\n",
    "\n",
    "Dengan library `matplotlib` maka dapat dilakukan visualisasi semua data untuk melakukan apakah data ini dapat dianalisa dengan Linear Regression"
   ]
  },
  {
   "cell_type": "code",
   "execution_count": 5,
   "id": "fe144529-32f0-4615-a14d-873ca126cc6d",
   "metadata": {},
   "outputs": [
    {
     "data": {
      "image/png": "[encoded data removed]",
      "text/plain": [
       "<Figure size 640x480 with 1 Axes>"
      ]
     },
     "metadata": {},
     "output_type": "display_data"
    }
   ],
   "source": [
    "import matplotlib.pyplot as plt\n",
    "\n",
    "plt.scatter(data['LamaPengalamanKerja-Tahun'],data['Gaji'],color=\"g\",marker=\".\")\n",
    "\n",
    "#add linear regression line to scatterplot \n",
    "plt.xlabel(\"Lama Pengalaman Kerja\")\n",
    "plt.ylabel(\"Gaji ()\")\n",
    "plt.title(\"Data Gaji\")\n",
    "plt.grid(True)\n",
    "plt.show()"
   ]
  },
  {
   "cell_type": "markdown",
   "id": "9dd8d40b-63de-4646-a5d3-1ff55e30a343",
   "metadata": {},
   "source": [
    "### Training Model\n",
    "\n",
    "Setelah melihat grafik diatas maka data dapat digunakan untuk percobaan linear regression."
   ]
  },
  {
   "cell_type": "markdown",
   "id": "74e2e975-2ea3-4d6c-9615-755a294d8336",
   "metadata": {},
   "source": [
    "**1. Data tersebut diubah menjadi data training dan data testing**"
   ]
  },
  {
   "cell_type": "code",
   "execution_count": 6,
   "id": "8692f9af-043a-4cf0-a956-d5f0f1734655",
   "metadata": {},
   "outputs": [],
   "source": [
    "x=data.iloc[:,:-1]   \n",
    "y=data.iloc[:,1]"
   ]
  },
  {
   "cell_type": "markdown",
   "id": "f5bc5913-7f1c-456f-93fc-3911fc0ba13c",
   "metadata": {},
   "source": [
    "**2. Dengan melakukan import library `sklearn` menggunakan method `train_test_split` seperti dibawah ini dan menghitung shape**"
   ]
  },
  {
   "cell_type": "code",
   "execution_count": 7,
   "id": "b06f193c-ab0f-4f0a-9e82-f5ba0cd0f50f",
   "metadata": {},
   "outputs": [
    {
     "name": "stdout",
     "output_type": "stream",
     "text": [
      "Training set shape - X: (18, 1)  y: (18,)\n",
      "Testing set shape - X: (12, 1)  y: (12,)\n"
     ]
    }
   ],
   "source": [
    "from sklearn.model_selection import train_test_split\n",
    "x_train, x_test, y_train, y_test = train_test_split(x, y, test_size=0.4)\n",
    "    \n",
    "print(\"Training set shape - X:\", x_train.shape, \" y:\", y_train.shape)\n",
    "print(\"Testing set shape - X:\", x_test.shape, \" y:\", y_test.shape)"
   ]
  },
  {
   "cell_type": "markdown",
   "id": "efbef36d-9990-49ac-953e-0e6fa2ead4ed",
   "metadata": {},
   "source": [
    "**3. Setelah membagikan data maka dapat dilakukan training model tersebut dengan Linear Regression seperti dibawah ini.**"
   ]
  },
  {
   "cell_type": "code",
   "execution_count": 8,
   "id": "a3485e3b-e9a9-4122-99ba-ca75c189797b",
   "metadata": {},
   "outputs": [
    {
     "data": {
      "text/html": [
       "<style>#sk-container-id-1 {color: black;}#sk-container-id-1 pre{padding: 0;}#sk-container-id-1 div.sk-toggleable {background-color: white;}#sk-container-id-1 label.sk-toggleable__label {cursor: pointer;display: block;width: 100%;margin-bottom: 0;padding: 0.3em;box-sizing: border-box;text-align: center;}#sk-container-id-1 label.sk-toggleable__label-arrow:before {content: \"▸\";float: left;margin-right: 0.25em;color: #696969;}#sk-container-id-1 label.sk-toggleable__label-arrow:hover:before {color: black;}#sk-container-id-1 div.sk-estimator:hover label.sk-toggleable__label-arrow:before {color: black;}#sk-container-id-1 div.sk-toggleable__content {max-height: 0;max-width: 0;overflow: hidden;text-align: left;background-color: #f0f8ff;}#sk-container-id-1 div.sk-toggleable__content pre {margin: 0.2em;color: black;border-radius: 0.25em;background-color: #f0f8ff;}#sk-container-id-1 input.sk-toggleable__control:checked~div.sk-toggleable__content {max-height: 200px;max-width: 100%;overflow: auto;}#sk-container-id-1 input.sk-toggleable__control:checked~label.sk-toggleable__label-arrow:before {content: \"▾\";}#sk-container-id-1 div.sk-estimator input.sk-toggleable__control:checked~label.sk-toggleable__label {background-color: #d4ebff;}#sk-container-id-1 div.sk-label input.sk-toggleable__control:checked~label.sk-toggleable__label {background-color: #d4ebff;}#sk-container-id-1 input.sk-hidden--visually {border: 0;clip: rect(1px 1px 1px 1px);clip: rect(1px, 1px, 1px, 1px);height: 1px;margin: -1px;overflow: hidden;padding: 0;position: absolute;width: 1px;}#sk-container-id-1 div.sk-estimator {font-family: monospace;background-color: #f0f8ff;border: 1px dotted black;border-radius: 0.25em;box-sizing: border-box;margin-bottom: 0.5em;}#sk-container-id-1 div.sk-estimator:hover {background-color: #d4ebff;}#sk-container-id-1 div.sk-parallel-item::after {content: \"\";width: 100%;border-bottom: 1px solid gray;flex-grow: 1;}#sk-container-id-1 div.sk-label:hover label.sk-toggleable__label {background-color: #d4ebff;}#sk-container-id-1 div.sk-serial::before {content: \"\";position: absolute;border-left: 1px solid gray;box-sizing: border-box;top: 0;bottom: 0;left: 50%;z-index: 0;}#sk-container-id-1 div.sk-serial {display: flex;flex-direction: column;align-items: center;background-color: white;padding-right: 0.2em;padding-left: 0.2em;position: relative;}#sk-container-id-1 div.sk-item {position: relative;z-index: 1;}#sk-container-id-1 div.sk-parallel {display: flex;align-items: stretch;justify-content: center;background-color: white;position: relative;}#sk-container-id-1 div.sk-item::before, #sk-container-id-1 div.sk-parallel-item::before {content: \"\";position: absolute;border-left: 1px solid gray;box-sizing: border-box;top: 0;bottom: 0;left: 50%;z-index: -1;}#sk-container-id-1 div.sk-parallel-item {display: flex;flex-direction: column;z-index: 1;position: relative;background-color: white;}#sk-container-id-1 div.sk-parallel-item:first-child::after {align-self: flex-end;width: 50%;}#sk-container-id-1 div.sk-parallel-item:last-child::after {align-self: flex-start;width: 50%;}#sk-container-id-1 div.sk-parallel-item:only-child::after {width: 0;}#sk-container-id-1 div.sk-dashed-wrapped {border: 1px dashed gray;margin: 0 0.4em 0.5em 0.4em;box-sizing: border-box;padding-bottom: 0.4em;background-color: white;}#sk-container-id-1 div.sk-label label {font-family: monospace;font-weight: bold;display: inline-block;line-height: 1.2em;}#sk-container-id-1 div.sk-label-container {text-align: center;}#sk-container-id-1 div.sk-container {/* jupyter's `normalize.less` sets `[hidden] { display: none; }` but bootstrap.min.css set `[hidden] { display: none !important; }` so we also need the `!important` here to be able to override the default hidden behavior on the sphinx rendered scikit-learn.org. See: https://github.com/scikit-learn/scikit-learn/issues/21755 */display: inline-block !important;position: relative;}#sk-container-id-1 div.sk-text-repr-fallback {display: none;}</style><div id=\"sk-container-id-1\" class=\"sk-top-container\"><div class=\"sk-text-repr-fallback\"><pre>LinearRegression()</pre><b>In a Jupyter environment, please rerun this cell to show the HTML representation or trust the notebook. <br />On GitHub, the HTML representation is unable to render, please try loading this page with nbviewer.org.</b></div><div class=\"sk-container\" hidden><div class=\"sk-item\"><div class=\"sk-estimator sk-toggleable\"><input class=\"sk-toggleable__control sk-hidden--visually\" id=\"sk-estimator-id-1\" type=\"checkbox\" checked><label for=\"sk-estimator-id-1\" class=\"sk-toggleable__label sk-toggleable__label-arrow\">LinearRegression</label><div class=\"sk-toggleable__content\"><pre>LinearRegression()</pre></div></div></div></div></div>"
      ],
      "text/plain": [
       "LinearRegression()"
      ]
     },
     "execution_count": 8,
     "metadata": {},
     "output_type": "execute_result"
    }
   ],
   "source": [
    "from sklearn.linear_model import LinearRegression\n",
    "\n",
    "model = LinearRegression()\n",
    "model.fit(x_train, y_train)"
   ]
  },
  {
   "cell_type": "markdown",
   "id": "1ce56c11-41a9-4256-94e6-cc8ebe80f16e",
   "metadata": {},
   "source": [
    "**4. Melihat Hasil Prediksi**"
   ]
  },
  {
   "cell_type": "code",
   "execution_count": 9,
   "id": "eff34090-f6c9-47d0-b66d-a71a42f59c8e",
   "metadata": {},
   "outputs": [
    {
     "data": {
      "text/plain": [
       "array([ 4721223.51502988,  6353000.25254736, 10393590.26925732,\n",
       "        6197592.94421236,  5109741.78586737,  3944186.97335489,\n",
       "        9228035.45674483,  4721223.51502988,  5420556.40253737,\n",
       "        8373295.26090234,  8606406.22340484,  5265149.09420237])"
      ]
     },
     "execution_count": 9,
     "metadata": {},
     "output_type": "execute_result"
    }
   ],
   "source": [
    "y_predict=model.predict(x_test)\n",
    "y_predict"
   ]
  },
  {
   "cell_type": "code",
   "execution_count": 10,
   "id": "d93db8a0-2225-4069-a2db-8888d9e867d2",
   "metadata": {},
   "outputs": [
    {
     "data": {
      "text/plain": [
       "array([ 7751666.02756234,  9694257.38174983,  5342852.74836987,\n",
       "        5731371.01920737,  7518555.06505985,  4565816.20669488,\n",
       "        6819222.17755236,  6042185.63587736, 10238182.96092232,\n",
       "        9616553.72758233,  3400261.39418239,  8994924.49424233,\n",
       "        3788779.66501989,  3089446.77751239,  3244854.08584739,\n",
       "        4488112.55252738,  5342852.74836987,  6896925.83171985])"
      ]
     },
     "execution_count": 10,
     "metadata": {},
     "output_type": "execute_result"
    }
   ],
   "source": [
    "x_predict=model.predict(x_train)\n",
    "x_predict"
   ]
  },
  {
   "cell_type": "markdown",
   "id": "08ceaaf9-9de6-474e-98da-a2bb6d27f868",
   "metadata": {},
   "source": [
    "**5. Membuat Data Frame untuk nilai aktual dan nilai prediksi**"
   ]
  },
  {
   "cell_type": "code",
   "execution_count": 11,
   "id": "b8cdf4ac-51b0-4565-8607-ff6950d60e6f",
   "metadata": {},
   "outputs": [
    {
     "data": {
      "text/html": [
       "<div>\n",
       "<style scoped>\n",
       "    .dataframe tbody tr th:only-of-type {\n",
       "        vertical-align: middle;\n",
       "    }\n",
       "\n",
       "    .dataframe tbody tr th {\n",
       "        vertical-align: top;\n",
       "    }\n",
       "\n",
       "    .dataframe thead th {\n",
       "        text-align: right;\n",
       "    }\n",
       "</style>\n",
       "<table border=\"1\" class=\"dataframe\">\n",
       "  <thead>\n",
       "    <tr style=\"text-align: right;\">\n",
       "      <th></th>\n",
       "      <th>Actual</th>\n",
       "      <th>Predict</th>\n",
       "    </tr>\n",
       "  </thead>\n",
       "  <tbody>\n",
       "    <tr>\n",
       "      <th>7</th>\n",
       "      <td>4532629.50</td>\n",
       "      <td>4.721224e+06</td>\n",
       "    </tr>\n",
       "    <tr>\n",
       "      <th>17</th>\n",
       "      <td>6917159.25</td>\n",
       "      <td>6.353000e+06</td>\n",
       "    </tr>\n",
       "    <tr>\n",
       "      <th>29</th>\n",
       "      <td>10145927.25</td>\n",
       "      <td>1.039359e+07</td>\n",
       "    </tr>\n",
       "    <tr>\n",
       "      <th>16</th>\n",
       "      <td>5496997.50</td>\n",
       "      <td>6.197593e+06</td>\n",
       "    </tr>\n",
       "    <tr>\n",
       "      <th>9</th>\n",
       "      <td>4761067.50</td>\n",
       "      <td>5.109742e+06</td>\n",
       "    </tr>\n",
       "    <tr>\n",
       "      <th>4</th>\n",
       "      <td>3321009.00</td>\n",
       "      <td>3.944187e+06</td>\n",
       "    </tr>\n",
       "    <tr>\n",
       "      <th>25</th>\n",
       "      <td>8789784.75</td>\n",
       "      <td>9.228035e+06</td>\n",
       "    </tr>\n",
       "    <tr>\n",
       "      <th>8</th>\n",
       "      <td>5365129.50</td>\n",
       "      <td>4.721224e+06</td>\n",
       "    </tr>\n",
       "    <tr>\n",
       "      <th>13</th>\n",
       "      <td>4752076.50</td>\n",
       "      <td>5.420556e+06</td>\n",
       "    </tr>\n",
       "    <tr>\n",
       "      <th>22</th>\n",
       "      <td>8433474.75</td>\n",
       "      <td>8.373295e+06</td>\n",
       "    </tr>\n",
       "    <tr>\n",
       "      <th>23</th>\n",
       "      <td>9474932.25</td>\n",
       "      <td>8.606406e+06</td>\n",
       "    </tr>\n",
       "    <tr>\n",
       "      <th>10</th>\n",
       "      <td>5262981.75</td>\n",
       "      <td>5.265149e+06</td>\n",
       "    </tr>\n",
       "  </tbody>\n",
       "</table>\n",
       "</div>"
      ],
      "text/plain": [
       "         Actual       Predict\n",
       "7    4532629.50  4.721224e+06\n",
       "17   6917159.25  6.353000e+06\n",
       "29  10145927.25  1.039359e+07\n",
       "16   5496997.50  6.197593e+06\n",
       "9    4761067.50  5.109742e+06\n",
       "4    3321009.00  3.944187e+06\n",
       "25   8789784.75  9.228035e+06\n",
       "8    5365129.50  4.721224e+06\n",
       "13   4752076.50  5.420556e+06\n",
       "22   8433474.75  8.373295e+06\n",
       "23   9474932.25  8.606406e+06\n",
       "10   5262981.75  5.265149e+06"
      ]
     },
     "execution_count": 11,
     "metadata": {},
     "output_type": "execute_result"
    }
   ],
   "source": [
    "new_df=pd.DataFrame({\"Actual\":y_test,\"Predict\":y_predict})\n",
    "new_df"
   ]
  },
  {
   "cell_type": "markdown",
   "id": "cc602ec2-afb6-4e2b-9773-6eb4ed637ff0",
   "metadata": {},
   "source": [
    "#### Visualisasi dataset\n",
    "\n",
    "Dengan membuat regression line dengan cara membuat slope dan intercept dari dataset"
   ]
  },
  {
   "cell_type": "code",
   "execution_count": 12,
   "id": "3ab81198-5e4b-463b-87a5-4bc7097c18e6",
   "metadata": {},
   "outputs": [],
   "source": [
    "slope = model.coef_[0]\n",
    "intercept = model.intercept_"
   ]
  },
  {
   "cell_type": "markdown",
   "id": "4431bdcc-9127-4e7c-993f-954484b1a0fe",
   "metadata": {},
   "source": [
    "#### Plotting Training Dataset\n",
    "\n",
    "Setelah membuat regression line maka dapat dilakukan visualisasi seperti dibawah ini"
   ]
  },
  {
   "cell_type": "code",
   "execution_count": 13,
   "id": "17ba393c-fdee-47fb-936b-53c29f5fb5a5",
   "metadata": {},
   "outputs": [
    {
     "data": {
      "image/png": "[encoded data removed]",
      "text/plain": [
       "<Figure size 640x480 with 1 Axes>"
      ]
     },
     "metadata": {},
     "output_type": "display_data"
    }
   ],
   "source": [
    "plt.plot(x, intercept + slope * x, color='b')\n",
    "plt.scatter(x_train,y_train,color=\"r\",marker=\".\")\n",
    "plt.title(\"Visualisasi Training Dataset\")\n",
    "plt.show()"
   ]
  },
  {
   "cell_type": "markdown",
   "id": "fa4cd662-d8dc-45d5-a43c-854752800f2b",
   "metadata": {},
   "source": [
    "#### Plotting Test Dataset\n",
    "\n",
    "Setelah membuat regression line maka dapat dilakukan visualisasi seperti dibawah ini"
   ]
  },
  {
   "cell_type": "code",
   "execution_count": 14,
   "id": "02ba880b-2015-4f7f-a1b8-b81484c73885",
   "metadata": {},
   "outputs": [
    {
     "data": {
      "image/png": "[encoded data removed]",
      "text/plain": [
       "<Figure size 640x480 with 1 Axes>"
      ]
     },
     "metadata": {},
     "output_type": "display_data"
    }
   ],
   "source": [
    "plt.plot(x_test, intercept + slope * x_test, color='b')\n",
    "plt.scatter(x_test,y_test,color=\"r\",marker=\".\")\n",
    "plt.title(\"Visualisasi Test Dataset\")\n",
    "plt.show()"
   ]
  },
  {
   "cell_type": "markdown",
   "id": "3c8bcf02-04c9-481e-98f1-000480fd167f",
   "metadata": {},
   "source": [
    "#### Training Score"
   ]
  },
  {
   "cell_type": "code",
   "execution_count": 15,
   "id": "44518529-c398-41e6-b38b-4f7ed1a5c025",
   "metadata": {},
   "outputs": [
    {
     "name": "stdout",
     "output_type": "stream",
     "text": [
      "Hasil Model Training adalah 96.51415928145283\n"
     ]
    }
   ],
   "source": [
    "training_score = model.score(x_train,y_train)*100\n",
    "\n",
    "print(f\"Hasil Model Training adalah {training_score}\")"
   ]
  },
  {
   "cell_type": "markdown",
   "id": "2879929e-172e-400f-a1be-41793d403a3b",
   "metadata": {},
   "source": [
    "#### Testing Score"
   ]
  },
  {
   "cell_type": "code",
   "execution_count": 16,
   "id": "5f2620a7-bf75-4fd3-a69d-cf5e78fd182f",
   "metadata": {},
   "outputs": [
    {
     "name": "stdout",
     "output_type": "stream",
     "text": [
      "Hasil Model Training adalah 94.14594440342293\n"
     ]
    }
   ],
   "source": [
    "testing_score = model.score(x_test,y_test)*100\n",
    "\n",
    "print(f\"Hasil Model Training adalah {testing_score}\")"
   ]
  },
  {
   "cell_type": "markdown",
   "id": "3d5825aa-d648-43ad-be5a-35594c6b6d6f",
   "metadata": {},
   "source": [
    "## Akurasi Model\n",
    "\n",
    "Setelah membuat model maka akan dilakukan pengecekan akurasi dengan menggunakan beberapa metrik sesuai dengan https://scikit-learn.org/stable/modules/model_evaluation.html|\n"
   ]
  },
  {
   "cell_type": "markdown",
   "id": "0fa38b8f-62bd-46d0-8a8f-b0af6a01108b",
   "metadata": {},
   "source": [
    "### Mean Squared Error\n",
    "\n",
    "di sisi lain, adalah rata-rata kotak kesalahan. Ini adalah metrik yang lebih umum daripada MAE karena menghukum kesalahan besar lebih karena operasi squaring."
   ]
  },
  {
   "cell_type": "code",
   "execution_count": 17,
   "id": "2d0b4458-0dae-4e10-b878-18687cd7cf9b",
   "metadata": {},
   "outputs": [
    {
     "name": "stdout",
     "output_type": "stream",
     "text": [
      "Hasil MSE adalah 518607.6130106812\n"
     ]
    }
   ],
   "source": [
    "from sklearn.metrics import mean_squared_error\n",
    "import numpy as np\n",
    "mse=mean_squared_error(y_test,y_predict)\n",
    "hasil_mse=np.sqrt(mean_squared_error(y_test,y_predict))\n",
    "\n",
    "print(f\"Hasil MSE adalah {hasil_mse}\")"
   ]
  },
  {
   "cell_type": "markdown",
   "id": "caed7ff6-4fb5-4f29-add0-ac73e842d43b",
   "metadata": {},
   "source": [
    "### Mean Absolute Error\n",
    "\n",
    "MAE adalah ukuran besarnya rata-rata kesalahan dalam satu set prediksi, tanpa mempertimbangkan arah mereka. Ini adalah rata-rata atas sampel uji perbedaan absolut antara prediksi dan pengamatan aktual di mana semua perbedaan individu memiliki berat yang sama. Ini memberikan indikasi bagaimana salah prediksi."
   ]
  },
  {
   "cell_type": "code",
   "execution_count": 18,
   "id": "f4f2c1c0-d71d-48f1-bf9b-20f5fba4c8a7",
   "metadata": {},
   "outputs": [
    {
     "name": "stdout",
     "output_type": "stream",
     "text": [
      "Hasil MSE adalah 446197.765776831\n"
     ]
    }
   ],
   "source": [
    "from sklearn.metrics import mean_absolute_error\n",
    "mae=mean_absolute_error(y_test,y_predict)\n",
    "\n",
    "print(f\"Hasil MSE adalah {mae}\")"
   ]
  },
  {
   "cell_type": "markdown",
   "id": "53c0a51f-3a77-44be-8c51-c2b413af999a",
   "metadata": {},
   "source": [
    "#### R2 Score\n",
    "\n",
    "Juga dikenal sebagai koefisien determinasi, adalah ukuran statistik yang menunjukkan proporsi varians untuk variabel dependen yang dijelaskan oleh variabel independen dalam model regresi. Secara sederhana, ini menunjukkan seberapa baik model regresi cocok dengan data."
   ]
  },
  {
   "cell_type": "code",
   "execution_count": 19,
   "id": "97fa5fcd-811d-440c-9661-19cfbe3d9892",
   "metadata": {},
   "outputs": [
    {
     "name": "stdout",
     "output_type": "stream",
     "text": [
      "Hasil R2 Score adalah 94.14594440342293\n"
     ]
    }
   ],
   "source": [
    "from sklearn.metrics import r2_score\n",
    "r2=r2_score(y_test,y_predict)*100\n",
    "print(f\"Hasil R2 Score adalah {r2}\")"
   ]
  }
 ],
 "metadata": {
  "kernelspec": {
   "display_name": "Python 3 (ipykernel)",
   "language": "python",
   "name": "python3"
  },
  "language_info": {
   "codemirror_mode": {
    "name": "ipython",
    "version": 3
   },
   "file_extension": ".py",
   "mimetype": "text/x-python",
   "name": "python",
   "nbconvert_exporter": "python",
   "pygments_lexer": "ipython3",
   "version": "3.11.6"
  }
 },
 "nbformat": 4,
 "nbformat_minor": 5
}
